{
 "metadata": {
  "kernelspec": {
   "display_name": "Streamlit Notebook",
   "name": "streamlit"
  }
 },
 "nbformat_minor": 5,
 "nbformat": 4,
 "cells": [
  {
   "cell_type": "code",
   "id": "3775908f-ca36-4846-8f38-5adca39217f2",
   "metadata": {
    "language": "python",
    "name": "cell1",
    "collapsed": false,
    "codeCollapsed": false
   },
   "source": "# Import python packages\nimport streamlit as st\nfrom snowflake.snowpark.context import get_active_session\nfrom snowflake.snowpark.functions import max,min,avg,call_function, split,substr,hour,concat,col,sqrt,lit,array_slice,array_agg,object_construct,parse_json, to_geography, to_array,to_date,round\nfrom snowflake.snowpark.types import StringType,VariantType, DateType, IntegerType,DecimalType\nimport json\nimport pandas as pd\nimport numpy as np\nimport pydeck as pdk\n\n# Write directly to the app\nst.title(\"UK Analytics within the North of England :train:\")\nst.write(\n    \"\"\"This app shows key insight of places and events that may effect Northern Trains).\n    \"\"\"\n)\n\n# Get the current credentials\nsession = get_active_session()",
   "execution_count": null,
   "outputs": []
  },
  {
   "cell_type": "code",
   "id": "05764f79-628c-494c-aaf5-0ecb076aebef",
   "metadata": {
    "language": "python",
    "name": "cell2",
    "collapsed": false,
    "codeCollapsed": false
   },
   "outputs": [],
   "source": "trains_latlon = session.table('NORTHERN_TRAINS_STATION_DATA.TESTING.\"StationLatLong\"')\n\nst.markdown('#### A dataframe which shows all the train stations')\nst.dataframe(trains_latlon)\nst.map(trains_latlon, latitude='Latitude', longitude='Longitude')",
   "execution_count": null
  },
  {
   "cell_type": "markdown",
   "id": "fcc8f616-1aa0-42be-8859-d06d615ee9f4",
   "metadata": {
    "name": "cell27",
    "collapsed": false
   },
   "source": "#### Creating a boundary box where northern train stations exist"
  },
  {
   "cell_type": "code",
   "id": "89590715-9bc1-49e6-bcb2-20c3abfb7735",
   "metadata": {
    "language": "python",
    "name": "cell3",
    "collapsed": false,
    "codeCollapsed": false
   },
   "outputs": [],
   "source": "#create a point from the coordinates\nenvelope = trains_latlon.with_column('POINT',call_function('ST_MAKEPOINT',col('\"Longitude\"'),col('\"Latitude\"')))\n\n#collect all the points into one row of data\nenvelope = envelope.select(call_function('ST_COLLECT',col('POINT')).alias('POINTS'))\n\n#create a rectangular shape which boarders the minimum possible size which covers all of the points\nenvelope = envelope.select(call_function('ST_ENVELOPE',col('POINTS')).alias('BOUNDARY'))\nenvelope.collect()[0][0]",
   "execution_count": null
  },
  {
   "cell_type": "markdown",
   "id": "72d13f0b-cdd9-44f7-aa6c-d9c73a60aea6",
   "metadata": {
    "name": "cell28",
    "collapsed": true
   },
   "source": "#### Visualise the boundary box on a map"
  },
  {
   "cell_type": "code",
   "id": "c2ab1ad5-e500-408c-bc92-db8c1a2e4078",
   "metadata": {
    "language": "python",
    "name": "cell4",
    "collapsed": false,
    "codeCollapsed": false
   },
   "outputs": [],
   "source": "#find the centre point so the map will render from that location\n\ncentre = envelope.with_column('CENTROID',call_function('ST_CENTROID',col('BOUNDARY')))\ncentre = centre.with_column('LON',call_function('ST_X',col('CENTROID')))\ncentre = centre.with_column('LAT',call_function('ST_Y',col('CENTROID')))\n\n#create LON and LAT variables\n\ncentrepd = centre.select('LON','LAT').to_pandas()\nLON = centrepd.LON.iloc[0]\nLAT = centrepd.LAT.iloc[0]\n\n### transform the data in pandas so the pydeck visualisation tool can view it as a polygon\n\nenvelopepd = envelope.to_pandas()\nenvelopepd[\"coordinates\"] = envelopepd[\"BOUNDARY\"].apply(lambda row: json.loads(row)[\"coordinates\"][0])\n\n\n####visualise on a map\n\n#### create a layer - this layer will visualise the rectangle\n\npolygon_layer = pdk.Layer(\n            \"PolygonLayer\",\n            envelopepd,\n            opacity=0.3,\n            get_polygon=\"coordinates\",\n            filled=True,\n            get_fill_color=[16, 14, 40],\n            auto_highlight=True,\n            pickable=False,\n        )\n\n \n#### render the map \n    \nst.pydeck_chart(pdk.Deck(\n    map_style=None,\n    initial_view_state=pdk.ViewState(\n        latitude=LAT,\n        longitude=LON,\n        zoom=5,\n        height=400\n        ),\n    \nlayers= [polygon_layer]\n\n))",
   "execution_count": null
  },
  {
   "cell_type": "markdown",
   "id": "eb2743c4-58a3-47cf-9dbd-9c02a2e08300",
   "metadata": {
    "name": "cell29",
    "collapsed": false
   },
   "source": "#### From carto overture maps - find all places in Great Britain"
  },
  {
   "cell_type": "code",
   "id": "685bc4aa-60e3-4ebd-9b4d-939306bd9d36",
   "metadata": {
    "language": "python",
    "name": "cell5",
    "collapsed": false,
    "codeCollapsed": false
   },
   "outputs": [],
   "source": "places = session.table('OVERTURE_MAPS__PLACES.CARTO.PLACE')\nplaces = places.filter(col('ADDRESSES')['list'][0]['element']['country'] =='GB')\n\nplaces.limit(3)",
   "execution_count": null
  },
  {
   "cell_type": "markdown",
   "id": "dfbd8859-0cbb-4f8e-9254-a1dfebfc0b4b",
   "metadata": {
    "name": "cell30",
    "collapsed": false
   },
   "source": "#### Select components in the dataset and create a readable display"
  },
  {
   "cell_type": "code",
   "id": "95af5ff6-49b3-423d-a8ae-06309810d4fe",
   "metadata": {
    "language": "python",
    "name": "cell6",
    "collapsed": false,
    "codeCollapsed": false
   },
   "outputs": [],
   "source": "\n\nplaces = places.select(col('NAMES')['primary'].astype(StringType()).alias('NAME'),\n                        col('PHONES')['list'][0]['element'].astype(StringType()).alias('PHONE'),\n                      col('CATEGORIES')['main'].astype(StringType()).alias('CATEGORY'),\n                        col('CATEGORIES')['alternate']['list'][0]['element'].astype(StringType()).alias('ALTERNATE'),\n                    col('websites')['list'][0]['element'].astype(StringType()).alias('WEBSITE'),\n                      col('GEOMETRY'))\n                        \n\nplaces.limit(10)",
   "execution_count": null
  },
  {
   "cell_type": "markdown",
   "id": "bc652aac-c8ef-41d3-8236-d1ce26c14ce1",
   "metadata": {
    "name": "cell31",
    "collapsed": false
   },
   "source": "#### Lets filter the view to only see places that are marked as Restaurants...... and  filter by the boundary box too"
  },
  {
   "cell_type": "code",
   "id": "411a71f5-9447-44e1-9f0c-30966acef062",
   "metadata": {
    "language": "python",
    "name": "cell7",
    "collapsed": false,
    "codeCollapsed": false
   },
   "outputs": [],
   "source": "places = places.filter(col('CATEGORY') =='restaurant')\n\nplaces = places.join(envelope,call_function('ST_WITHIN',places['GEOMETRY'],envelope['boundary']))\nplaces = places.with_column('LON',call_function('ST_X',col('GEOMETRY')))\nplaces = places.with_column('LAT',call_function('ST_Y',col('GEOMETRY')))\nst.write(places)",
   "execution_count": null
  },
  {
   "cell_type": "markdown",
   "id": "d12c31a7-1337-4f2b-afec-c2e6b14e4cbf",
   "metadata": {
    "name": "cell32",
    "collapsed": false
   },
   "source": "#### Build a map layer to view the restaurants "
  },
  {
   "cell_type": "code",
   "id": "4db43736-120f-4cb6-8c98-c31b39c2881a",
   "metadata": {
    "language": "python",
    "name": "cell8",
    "collapsed": false,
    "codeCollapsed": false
   },
   "outputs": [],
   "source": "placespd = places.to_pandas()\npoi_l = pdk.Layer(\n            'ScatterplotLayer',\n            data=placespd,\n            get_position='[LON, LAT]',\n            get_color='[255,255,255]',\n            get_radius=600,\n            pickable=True)\n\n#### render the map showing trainstations based on overture maps\n    \nst.pydeck_chart(pdk.Deck(\n    map_style=None,\n    initial_view_state=pdk.ViewState(\n        latitude=LAT,\n        longitude=LON,\n        zoom=5,\n        height=400\n        ),\n    \nlayers= [polygon_layer, poi_l], tooltip = {'text':\"Station Name: {NAME}, alternate: {ALTERNATE}\"}\n\n))",
   "execution_count": null
  },
  {
   "cell_type": "markdown",
   "id": "f148da87-c89a-4149-a033-8ed974517ae7",
   "metadata": {
    "name": "cell48",
    "collapsed": false
   },
   "source": "#### Now add the Train Stations"
  },
  {
   "cell_type": "code",
   "id": "290c09f5-62a2-4bfd-829e-53fe33ebd4b0",
   "metadata": {
    "language": "python",
    "name": "cell9",
    "collapsed": false,
    "codeCollapsed": true
   },
   "outputs": [],
   "source": "trains_latlon_renamed = trains_latlon\n\ntrains_latlon_renamed = trains_latlon_renamed.with_column_renamed('\"CrsCode\"','NAME')\ntrains_latlon_renamed = trains_latlon_renamed.with_column_renamed('\"Postcode\"','ALTERNATE')\ntrains_latlon_renamed = trains_latlon_renamed.with_column_renamed('\"Latitude\"','LAT')\ntrains_latlon_renamed = trains_latlon_renamed.with_column_renamed('\"Longitude\"','LON')\ntrains_latlon_renamed_pd = trains_latlon_renamed.to_pandas()\n\nnw_trains_l = pdk.Layer(\n            'ScatterplotLayer',\n            data=trains_latlon_renamed_pd,\n            get_position='[LON, LAT]',\n            get_color='[0,187,2]',\n            get_radius=600,\n            pickable=True)\n\n#### render the map showing trainstations based on overture maps\n    \nst.pydeck_chart(pdk.Deck(\n    map_style=None,\n    initial_view_state=pdk.ViewState(\n        latitude=LAT,\n        longitude=LON,\n        zoom=5,\n        height=400\n        ),\n    \nlayers= [polygon_layer, poi_l, nw_trains_l], tooltip = {'text':\"Station Name: {NAME}, alternate: {ALTERNATE}\"}\n\n))",
   "execution_count": null
  },
  {
   "cell_type": "markdown",
   "id": "8d6f7d8e-6479-42ca-9f0e-2bdd5298be48",
   "metadata": {
    "name": "cell33",
    "collapsed": false
   },
   "source": "#### View the train station information - will be nice if we could have this all in a tool tip"
  },
  {
   "cell_type": "code",
   "id": "662b4781-638e-48fd-b8c5-c3c54bd3325e",
   "metadata": {
    "language": "python",
    "name": "cell14",
    "collapsed": false,
    "codeCollapsed": false
   },
   "outputs": [],
   "source": "further_train_info = session.table('NORTHERN_TRAINS_STATION_DATA.TESTING.\"STATION ATTRIBUTES 1\"')\nfurther_train_info.limit(4)",
   "execution_count": null
  },
  {
   "cell_type": "markdown",
   "id": "0728d4b4-e3c1-4c36-beaf-4a04e8681f44",
   "metadata": {
    "name": "cell34",
    "collapsed": false
   },
   "source": "#### Use Snowflake Artic to create a summary report of each train station so we can use it in a tool tip"
  },
  {
   "cell_type": "code",
   "id": "b432c6cb-db48-4be3-84c6-c874d46864a4",
   "metadata": {
    "language": "python",
    "name": "cell15",
    "collapsed": false,
    "codeCollapsed": false
   },
   "outputs": [],
   "source": "further_train_info= further_train_info.with_column('OBJECT',object_construct(lit('CRS Code'),\n                                                                             col('\"CRS Code\"'),\n                                                                             lit('Full Timetable Calls'),\n                                                                             col('\"Dec21 Weekday Full Timetable Daily Calls\"').astype(IntegerType()),\n                                                                             lit('Emergency Timetable Calls'),\n                                                                             col('\"Dec21 Weekday Emergency Timetable Daily Calls\"').astype(IntegerType()),\n                                                                             lit('Footfall'),\n                                                                             col( '\"ORR Station Footfall 2020-21\"').astype(IntegerType()),\n                                                                             lit('Parking'),\n                                                                             col('\"Car Parking - Free/Chargeable\"'),\n                                                                             lit('MP'),\n                                                                             col(\"MP\"),\n                                                                             lit(\"Political Party\"),\n                                                                             col('\"Political Party\"'),\n                                                                             lit('Car Parking Spaces'),\n                                                                             col('\"Car Parking Spaces\"').astype(IntegerType()),\n                                                                             lit('Staffed?'),\n                                                                             col('\"Staffed?\"')))\nprompt = 'In less than 200 words, write a summary based on the following information'\n\nprompt2 = 'Do not include Based on the provided information'\n\nfurther_train_info = further_train_info.select('\"CRS Code\"','MP','\"Political Party\"', call_function('snowflake.cortex.complete','snowflake-arctic',concat(lit(prompt),col('OBJECT').astype(StringType()),lit('prompt2'))).alias('ALTERNATE'))\n\n#further_train_info.write.mode('overwrite').save_as_table(\"DATA.TRAIN_STATION_INFORMATION\")\nsession.table('DATA.TRAIN_STATION_INFORMATION')",
   "execution_count": null
  },
  {
   "cell_type": "markdown",
   "id": "4b3a9a60-d4ae-4187-bc8c-33998ec472a6",
   "metadata": {
    "name": "cell35",
    "collapsed": false
   },
   "source": "#### Display the new tool tip on the map"
  },
  {
   "cell_type": "code",
   "id": "f2f922af-7977-457c-80c6-074af3813574",
   "metadata": {
    "language": "python",
    "name": "cell16",
    "collapsed": false,
    "codeCollapsed": false
   },
   "outputs": [],
   "source": "trains_latlon_renamed = trains_latlon\n\ntrains_latlon_renamed = trains_latlon_renamed.with_column_renamed('\"CrsCode\"','NAME')\ntrains_latlon_renamed = trains_latlon_renamed.with_column_renamed('\"Latitude\"','LAT')\ntrains_latlon_renamed = trains_latlon_renamed.with_column_renamed('\"Longitude\"','LON')\n\nstation_info = session.table('DATA.TRAIN_STATION_INFORMATION')\n\ntrains_latlon_renamed = trains_latlon_renamed.join(station_info,station_info['\"CRS Code\"']==trains_latlon_renamed['NAME']).drop('\"CRS Code\"')\ntrains_latlon_renamed_pd = trains_latlon_renamed.to_pandas()\n\nnw_trains_l = pdk.Layer(\n            'ScatterplotLayer',\n            data=trains_latlon_renamed_pd,\n            get_position='[LON, LAT]',\n            get_color='[0,187,2]',\n            get_radius=600,\n            pickable=True)\n\n#### render the map showing trainstations based on overture maps\n\ntooltip = {\n   \"html\": \"\"\"<b>Name:</b> {NAME} <br> <b>Alternate:</b> {ALTERNATE}\"\"\",\n   \"style\": {\n       \"width\":\"50%\",\n        \"backgroundColor\": \"steelblue\",\n        \"color\": \"white\",\n       \"text-wrap\": \"balance\"\n   }\n}\n    \nst.pydeck_chart(pdk.Deck(\n    map_style=None,\n    initial_view_state=pdk.ViewState(\n        latitude=LAT,\n        longitude=LON,\n        zoom=5,\n        height=700\n        ),\n    \nlayers= [polygon_layer, poi_l, nw_trains_l], tooltip = tooltip\n\n))",
   "execution_count": null
  },
  {
   "cell_type": "markdown",
   "id": "f3af2195-4ceb-494d-a540-56f8ac095caf",
   "metadata": {
    "name": "cell36",
    "collapsed": false
   },
   "source": "#### Create a layer with includes key events - we dont know what the events are so we will retrieve a list of them - this is data based on what is in the trained model"
  },
  {
   "cell_type": "code",
   "id": "01894362-4c29-44cf-8409-1fd82d5b22be",
   "metadata": {
    "language": "python",
    "name": "cell10",
    "collapsed": false,
    "codeCollapsed": false
   },
   "outputs": [],
   "source": "json1 = '''{\"DATE\":\"YYYY-MM-DD\", \"NAME\":\"event\",DESCRIPTION:\"describe what the event is\" \"CENTROID\":{\n  \"coordinates\": [\n    -1.5795389,\n    55.335987\n  ],\n  \"type\": \"Point\"\n},\"COLOR\":\"Random bright and unique color in RGB presented in an array\"}'''\n\n\nprompt = f''' Retrieve 6 events within the north of england and will happen in 2024.  do not include commentary or notes retrive this in the following json format {json1}  '''\nevents = session.create_dataframe([{'prompt':prompt}])\n\nevents = events.select(call_function('SNOWFLAKE.CORTEX.COMPLETE','snowflake-arctic',prompt).alias('EVENT_DATA'))\n\n#events.write.mode('overwrite').save_as_table(\"DATA.EVENTS_IN_THE_NORTH\")\nsession.table('DATA.EVENTS_IN_THE_NORTH')",
   "execution_count": null
  },
  {
   "cell_type": "markdown",
   "id": "04a0fc8e-2a98-48aa-8817-bae86bcb1a20",
   "metadata": {
    "name": "cell37",
    "collapsed": false
   },
   "source": "#### Flatten the data so we can use in our map"
  },
  {
   "cell_type": "code",
   "id": "e5abd6af-6ff3-4930-83ff-139a9462febe",
   "metadata": {
    "language": "python",
    "name": "cell26",
    "collapsed": false
   },
   "outputs": [],
   "source": "events = session.table('DATA.EVENTS_IN_THE_NORTH')\nevents = events.join_table_function('flatten',parse_json('EVENT_DATA')).select('VALUE')\nevents=events.with_column('NAME',col('VALUE')['NAME'].astype(StringType()))\nevents=events.with_column('DESCRIPTION',col('VALUE')['DESCRIPTION'].astype(StringType()))\nevents=events.with_column('CENTROID',to_geography(col('VALUE')['CENTROID']))\nevents=events.with_column('COLOR',col('VALUE')['COLOR'])\nevents=events.with_column('DATE',col('VALUE')['DATE'].astype(DateType())).drop('VALUE')\nevents",
   "execution_count": null
  },
  {
   "cell_type": "code",
   "id": "f858a6aa-5c09-491e-84b4-ad02889ee9c5",
   "metadata": {
    "language": "python",
    "name": "cell11",
    "collapsed": false,
    "codeCollapsed": false
   },
   "outputs": [],
   "source": "events=events.with_column('H3',call_function('H3_POINT_TO_CELL_STRING',col('CENTROID'),lit(5)))\n\nevents",
   "execution_count": null
  },
  {
   "cell_type": "markdown",
   "id": "f3e7cd2c-425a-4f98-933e-040a705a1901",
   "metadata": {
    "name": "cell13",
    "collapsed": false
   },
   "source": "#### Create the event layer on the map to show the events"
  },
  {
   "cell_type": "code",
   "id": "ade9f728-2027-40f5-9e2a-f4f4e1d2f979",
   "metadata": {
    "language": "python",
    "name": "cell12",
    "collapsed": false,
    "codeCollapsed": false
   },
   "outputs": [],
   "source": "events = events.with_column('R',col('COLOR')[0])\nevents = events.with_column('G',col('COLOR')[1])\nevents = events.with_column('B',col('COLOR')[2])\nevents = events.with_column_renamed('DESCRIPTION','ALTERNATE')\neventspd = events.group_by('H3','NAME','ALTERNATE','R','G','B').count().to_pandas()\n\nst.write(eventspd)\n\nh3_events = pdk.Layer(\n        \"H3HexagonLayer\",\n        eventspd,\n        pickable=True,\n        stroked=True,\n        filled=True,\n        extruded=False,\n        get_hexagon=\"H3\",\n        get_fill_color=[\"255-R\",\"255-G\",\"255-B\"],\n        line_width_min_pixels=2,\n        opacity=0.4)\n\n#### render the map showing trainstations based on overture maps\n\ntooltip = {\n   \"html\": \"\"\"<b>Name:</b> {NAME} <br> <b>Alternate:</b> {ALTERNATE}\"\"\",\n   \"style\": {\n       \"width\":\"50%\",\n        \"backgroundColor\": \"steelblue\",\n        \"color\": \"white\",\n       \"text-wrap\": \"balance\"\n   }\n}\n\nst.pydeck_chart(pdk.Deck(\n    map_style=None,\n    initial_view_state=pdk.ViewState(\n        latitude=LAT,\n        longitude=LON,\n        zoom=5,\n        height=600\n        ),\n    \nlayers= [polygon_layer, poi_l, h3_events,nw_trains_l, ], tooltip = tooltip\n\n))",
   "execution_count": null
  },
  {
   "cell_type": "markdown",
   "id": "4b0eac12-33db-4599-805d-184996baa597",
   "metadata": {
    "name": "cell38",
    "collapsed": false
   },
   "source": "#### Filter the train stations and resturants that might be impacted by the events"
  },
  {
   "cell_type": "code",
   "id": "3e38779e-3a01-4b82-bf8e-5f855e97908f",
   "metadata": {
    "language": "python",
    "name": "cell17",
    "collapsed": false,
    "codeCollapsed": false
   },
   "outputs": [],
   "source": "\ntrains_h3 = trains_latlon_renamed.with_column('H3',call_function('H3_LATLNG_TO_CELL_STRING',col('LAT'),col('LON'),lit(5)))\ntrains_h3 = trains_h3.join(events.select('H3',col('NAME').alias('EVENT_NAME'),'DATE'),'H3')\n\nst.markdown('#### Affected Train Stations')\nst.write(trains_h3.limit(1))\nplaces_h3 = places.with_column('H3',call_function('H3_POINT_TO_CELL_STRING',col('GEOMETRY'),lit(5)))\nplaces_h3 = places_h3.join(events.select('H3','CENTROID',col('NAME').alias('EVENT_NAME'),'DATE'),'H3')\nplaces_h3 = places_h3.with_column('DISTANCE_FROM_EVENT',call_function('ST_DISTANCE',col('CENTROID'),col('GEOMETRY')))\nplaces_h3 = places_h3.filter(col('DISTANCE_FROM_EVENT')< 1000)\nplaces_h3 = places_h3.sort(col('DISTANCE_FROM_EVENT').asc())\nst.markdown('#### Affected Restaurants')                             \nst.write(places_h3.limit(10))\n\n\n\n",
   "execution_count": null
  },
  {
   "cell_type": "markdown",
   "id": "b7f72b3c-d529-4aba-b274-13368212d44e",
   "metadata": {
    "name": "cell39",
    "collapsed": false
   },
   "source": "#### Build a places object to feed affected resturants into an LLM"
  },
  {
   "cell_type": "code",
   "id": "d0e50c65-5544-419b-bda1-a4e2054f40be",
   "metadata": {
    "language": "python",
    "name": "cell20",
    "collapsed": false,
    "codeCollapsed": false
   },
   "outputs": [],
   "source": "object3 = trains_h3.select('H3','MP').distinct()\nobject3 = places_h3.join(object3,'H3')  \nobject3 = object3.group_by('MP').agg(array_agg(object_construct(lit('NAME'),\n                                                                col('NAME'),\n                                                                lit('DISTANCE_FROM_EVENT'),\n                                                                round('DISTANCE_FROM_EVENT',5).astype(DecimalType(20,4)),\n                                                                lit('PHONE'),\n                                                                col('PHONE'),\n                                                               lit('WEBSITE'),\n                                                               col('WEBSITE'))).within_group('MP').alias('RESTAURANTS'))\nobject3",
   "execution_count": null
  },
  {
   "cell_type": "markdown",
   "id": "2d7c2eb6-43fd-454b-9a84-64bf217154f7",
   "metadata": {
    "name": "cell41",
    "collapsed": false
   },
   "source": "#### Build a trains object to feed affected train stations into the LLM"
  },
  {
   "cell_type": "code",
   "id": "d45b132e-ecbf-4efa-8a76-cffc9f682ce8",
   "metadata": {
    "language": "python",
    "name": "cell19",
    "collapsed": false,
    "codeCollapsed": false
   },
   "outputs": [],
   "source": "object1 = trains_h3.group_by('MP').agg(array_agg(object_construct(lit('Train Station information'),col('ALTERNATE'))).within_group('MP').alias('TRAIN_STATIONS'))\nobject1",
   "execution_count": null
  },
  {
   "cell_type": "markdown",
   "id": "beff6203-de8d-46eb-9380-39390dcc5f0e",
   "metadata": {
    "name": "cell40",
    "collapsed": false
   },
   "source": "#### Build an events object to feed affected trains into an LLM"
  },
  {
   "cell_type": "code",
   "id": "de58fb97-dec3-41c9-befa-eb56f2378c1b",
   "metadata": {
    "language": "python",
    "name": "cell18",
    "collapsed": false,
    "codeCollapsed": false
   },
   "outputs": [],
   "source": "object2 = trains_h3.select('MP','EVENT_NAME','DATE').distinct()\nobject2 = object2.group_by('MP').agg(array_agg(object_construct(lit('EVENT'),col('EVENT_NAME'),lit('DATE'),col('DATE'))).within_group('MP').alias('EVENTS'))\nobject2",
   "execution_count": null
  },
  {
   "cell_type": "markdown",
   "id": "58e68a85-f464-462d-b737-0382f9d0a44e",
   "metadata": {
    "name": "cell42",
    "collapsed": false
   },
   "source": "#### Create a table which joins all of these objects together"
  },
  {
   "cell_type": "code",
   "id": "4699a450-49c2-40c2-aff1-558ecc859f2f",
   "metadata": {
    "language": "python",
    "name": "cell21",
    "collapsed": false,
    "codeCollapsed": false
   },
   "outputs": [],
   "source": "all_3 = object1.join(object2,'MP')\nall_3 = all_3.join(object3,'MP')\n\nall_3.write.mode('overwrite').save_as_table(\"DATA.EVENTS_AND_WHAT_IS_AFFECTED\")",
   "execution_count": null
  },
  {
   "cell_type": "markdown",
   "id": "bc24c145-877c-41c1-809f-709dc329d88d",
   "metadata": {
    "name": "cell43",
    "collapsed": false
   },
   "source": "#### Select the table but only display the first 8 resturants for each MP"
  },
  {
   "cell_type": "code",
   "id": "199f7176-ca4c-42e8-a3a9-3e6d07b50600",
   "metadata": {
    "language": "python",
    "name": "cell22",
    "collapsed": false,
    "codeCollapsed": false
   },
   "outputs": [],
   "source": "\nall_3 = session.table(\"DATA.EVENTS_AND_WHAT_IS_AFFECTED\")\nall_3 = all_3.select('MP','TRAIN_STATIONS','EVENTS',\n                     \narray_slice(col('RESTAURANTS'),lit(0),lit(8)).alias('RESTAURANTS'),\n\n                    )\n\nall_3",
   "execution_count": null
  },
  {
   "cell_type": "markdown",
   "id": "77ee06f5-e349-492b-8283-c2ddd48c50c0",
   "metadata": {
    "name": "cell44",
    "collapsed": false
   },
   "source": "#### Create an LLM prompt"
  },
  {
   "cell_type": "code",
   "id": "f3cd7b31-ddab-4b6f-bfa6-ef68a18f9701",
   "metadata": {
    "language": "python",
    "name": "cell23",
    "collapsed": false,
    "codeCollapsed": false
   },
   "outputs": [],
   "source": "prompt = concat(lit('Write to this MP:'),\n                col('MP'),\n               lit('about these events: '),\n               col('EVENTS').astype(StringType()),\n               lit('effecting these stations: '),\n               col('TRAIN_STATIONS').astype(StringType()),\n                lit('And these Restaurants: '),\n                col('RESTAURANTS').astype(StringType()),\n               lit('The letter is written by Becky - a concerned Citizen'))",
   "execution_count": null
  },
  {
   "cell_type": "markdown",
   "id": "3e719cac-3133-4c42-8603-fcdea1b3bd5a",
   "metadata": {
    "name": "cell45",
    "collapsed": false
   },
   "source": "#### Call the LLM  baed on the above prompt"
  },
  {
   "cell_type": "code",
   "id": "e04f9fab-25a9-45e5-84d7-4df8207aac26",
   "metadata": {
    "language": "python",
    "name": "cell24",
    "collapsed": false,
    "codeCollapsed": false
   },
   "outputs": [],
   "source": "letters = all_3.select('MP',call_function('SNOWFLAKE.CORTEX.COMPLETE','mixtral-8x7b',prompt).alias('LETTER'))\n#letters.write.mode('overwrite').save_as_table(\"DATA.LETTERS_TO_MP\")",
   "execution_count": null
  },
  {
   "cell_type": "markdown",
   "id": "104bc8e0-664f-4e85-944e-3a3b32b1264d",
   "metadata": {
    "name": "cell46",
    "collapsed": false
   },
   "source": "#### View the letters"
  },
  {
   "cell_type": "code",
   "id": "f0c135f3-0cc9-41d2-bd8c-52e8c1025c78",
   "metadata": {
    "language": "python",
    "name": "cell25",
    "collapsed": false,
    "codeCollapsed": false
   },
   "outputs": [],
   "source": "letters = session.table('DATA.LETTERS_TO_MP')\nletters",
   "execution_count": null
  },
  {
   "cell_type": "markdown",
   "id": "99d37753-89e1-48ff-9b07-ae3027d5ee8f",
   "metadata": {
    "name": "cell47",
    "collapsed": false
   },
   "source": "#### View an Example of one letter"
  },
  {
   "cell_type": "code",
   "id": "8056c208-3631-4cab-a2a5-2201a9c58380",
   "metadata": {
    "language": "python",
    "name": "cell49",
    "collapsed": false
   },
   "outputs": [],
   "source": "letterspd = letters.to_pandas()\n\nselected_letter = st.slider('Choose Letter:',0,letterspd.shape[0]-1,1)\nst.write(letterspd.LETTER.iloc[selected_letter])",
   "execution_count": null
  }
 ]
}