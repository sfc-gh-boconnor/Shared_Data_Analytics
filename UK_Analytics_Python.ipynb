{
 "cells": [
  {
   "cell_type": "code",
   "execution_count": null,
   "id": "3775908f-ca36-4846-8f38-5adca39217f2",
   "metadata": {
    "codeCollapsed": false,
    "collapsed": false,
    "language": "python",
    "name": "cell1"
   },
   "outputs": [],
   "source": [
    "# Import python packages\n",
    "import streamlit as st\n",
    "from snowflake.snowpark.context import get_active_session\n",
    "from snowflake.snowpark.functions import max,min,avg,call_function, split,substr,hour,concat,col,sqrt,lit,array_slice,array_agg,object_construct,parse_json, to_geography, to_array,to_date,round\n",
    "from snowflake.snowpark.types import StringType,VariantType, DateType, IntegerType,DecimalType\n",
    "import json\n",
    "import pandas as pd\n",
    "import numpy as np\n",
    "import pydeck as pdk\n",
    "\n",
    "# Write directly to the app\n",
    "st.title(\"UK Analytics within the North of England :train:\")\n",
    "st.write(\n",
    "    \"\"\"This app shows key insight of places and events that may effect Northern Trains).\n",
    "    \"\"\"\n",
    ")\n",
    "\n",
    "# Get the current credentials\n",
    "session = get_active_session()"
   ]
  },
  {
   "cell_type": "code",
   "execution_count": null,
   "id": "05764f79-628c-494c-aaf5-0ecb076aebef",
   "metadata": {
    "codeCollapsed": false,
    "collapsed": false,
    "language": "python",
    "name": "cell2"
   },
   "outputs": [],
   "source": [
    "trains_latlon = session.table('NORTHERN_TRAINS_STATION_DATA.TESTING.\"StationLatLong\"')\n",
    "\n",
    "st.markdown('#### A dataframe which shows all the train stations')\n",
    "st.dataframe(trains_latlon)\n",
    "st.map(trains_latlon, latitude='Latitude', longitude='Longitude')"
   ]
  },
  {
   "cell_type": "markdown",
   "id": "fcc8f616-1aa0-42be-8859-d06d615ee9f4",
   "metadata": {
    "collapsed": false,
    "name": "cell27"
   },
   "source": [
    "#### Creating a boundary box where northern train stations exist"
   ]
  },
  {
   "cell_type": "code",
   "execution_count": null,
   "id": "89590715-9bc1-49e6-bcb2-20c3abfb7735",
   "metadata": {
    "codeCollapsed": false,
    "collapsed": false,
    "language": "python",
    "name": "cell3"
   },
   "outputs": [],
   "source": [
    "#create a point from the coordinates\n",
    "envelope = trains_latlon.with_column('POINT',call_function('ST_MAKEPOINT',col('\"Longitude\"'),col('\"Latitude\"')))\n",
    "\n",
    "#collect all the points into one row of data\n",
    "envelope = envelope.select(call_function('ST_COLLECT',col('POINT')).alias('POINTS'))\n",
    "\n",
    "#create a rectangular shape which boarders the minimum possible size which covers all of the points\n",
    "envelope = envelope.select(call_function('ST_ENVELOPE',col('POINTS')).alias('BOUNDARY'))\n",
    "envelope.collect()[0][0]"
   ]
  },
  {
   "cell_type": "markdown",
   "id": "72d13f0b-cdd9-44f7-aa6c-d9c73a60aea6",
   "metadata": {
    "collapsed": true,
    "name": "cell28"
   },
   "source": [
    "#### Visualise the boundary box on a map"
   ]
  },
  {
   "cell_type": "code",
   "execution_count": null,
   "id": "c2ab1ad5-e500-408c-bc92-db8c1a2e4078",
   "metadata": {
    "codeCollapsed": false,
    "collapsed": false,
    "language": "python",
    "name": "cell4"
   },
   "outputs": [],
   "source": [
    "#find the centre point so the map will render from that location\n",
    "\n",
    "centre = envelope.with_column('CENTROID',call_function('ST_CENTROID',col('BOUNDARY')))\n",
    "centre = centre.with_column('LON',call_function('ST_X',col('CENTROID')))\n",
    "centre = centre.with_column('LAT',call_function('ST_Y',col('CENTROID')))\n",
    "\n",
    "#create LON and LAT variables\n",
    "\n",
    "centrepd = centre.select('LON','LAT').to_pandas()\n",
    "LON = centrepd.LON.iloc[0]\n",
    "LAT = centrepd.LAT.iloc[0]\n",
    "\n",
    "### transform the data in pandas so the pydeck visualisation tool can view it as a polygon\n",
    "\n",
    "envelopepd = envelope.to_pandas()\n",
    "envelopepd[\"coordinates\"] = envelopepd[\"BOUNDARY\"].apply(lambda row: json.loads(row)[\"coordinates\"][0])\n",
    "\n",
    "\n",
    "####visualise on a map\n",
    "\n",
    "#### create a layer - this layer will visualise the rectangle\n",
    "\n",
    "polygon_layer = pdk.Layer(\n",
    "            \"PolygonLayer\",\n",
    "            envelopepd,\n",
    "            opacity=0.3,\n",
    "            get_polygon=\"coordinates\",\n",
    "            filled=True,\n",
    "            get_fill_color=[16, 14, 40],\n",
    "            auto_highlight=True,\n",
    "            pickable=False,\n",
    "        )\n",
    "\n",
    " \n",
    "#### render the map \n",
    "    \n",
    "st.pydeck_chart(pdk.Deck(\n",
    "    map_style=None,\n",
    "    initial_view_state=pdk.ViewState(\n",
    "        latitude=LAT,\n",
    "        longitude=LON,\n",
    "        zoom=5,\n",
    "        height=400\n",
    "        ),\n",
    "    \n",
    "layers= [polygon_layer]\n",
    "\n",
    "))"
   ]
  },
  {
   "cell_type": "markdown",
   "id": "eb2743c4-58a3-47cf-9dbd-9c02a2e08300",
   "metadata": {
    "collapsed": false,
    "name": "cell29"
   },
   "source": [
    "#### From carto overture maps - find all places in Great Britain"
   ]
  },
  {
   "cell_type": "code",
   "execution_count": null,
   "id": "685bc4aa-60e3-4ebd-9b4d-939306bd9d36",
   "metadata": {
    "codeCollapsed": false,
    "collapsed": false,
    "language": "python",
    "name": "cell5"
   },
   "outputs": [],
   "source": [
    "places = session.table('OVERTURE_MAPS__PLACES.CARTO.PLACE')\n",
    "places = places.filter(col('ADDRESSES')['list'][0]['element']['country'] =='GB')\n",
    "\n",
    "places.limit(3)"
   ]
  },
  {
   "cell_type": "markdown",
   "id": "dfbd8859-0cbb-4f8e-9254-a1dfebfc0b4b",
   "metadata": {
    "collapsed": false,
    "name": "cell30"
   },
   "source": [
    "#### Select components in the dataset and create a readable display"
   ]
  },
  {
   "cell_type": "code",
   "execution_count": null,
   "id": "95af5ff6-49b3-423d-a8ae-06309810d4fe",
   "metadata": {
    "codeCollapsed": false,
    "collapsed": false,
    "language": "python",
    "name": "cell6"
   },
   "outputs": [],
   "source": [
    "places = places.select(col('NAMES')['primary'].astype(StringType()).alias('NAME'),\n",
    "                        col('PHONES')['list'][0]['element'].astype(StringType()).alias('PHONE'),\n",
    "                      col('CATEGORIES')['main'].astype(StringType()).alias('CATEGORY'),\n",
    "                        col('CATEGORIES')['alternate']['list'][0]['element'].astype(StringType()).alias('ALTERNATE'),\n",
    "                    col('websites')['list'][0]['element'].astype(StringType()).alias('WEBSITE'),\n",
    "                      col('GEOMETRY'))\n",
    "                        \n",
    "\n",
    "places.limit(10)"
   ]
  },
  {
   "cell_type": "markdown",
   "id": "bc652aac-c8ef-41d3-8236-d1ce26c14ce1",
   "metadata": {
    "collapsed": false,
    "name": "cell31"
   },
   "source": [
    "#### Lets filter the view to only see places that are marked as Restaurants...... and  filter by the boundary box too"
   ]
  },
  {
   "cell_type": "code",
   "execution_count": null,
   "id": "411a71f5-9447-44e1-9f0c-30966acef062",
   "metadata": {
    "codeCollapsed": false,
    "collapsed": false,
    "language": "python",
    "name": "cell7"
   },
   "outputs": [],
   "source": [
    "places = places.filter(col('CATEGORY') =='restaurant')\n",
    "places = places.join(envelope,call_function('ST_WITHIN',places['GEOMETRY'],envelope['boundary']))\n",
    "places = places.with_column('LON',call_function('ST_X',col('GEOMETRY')))\n",
    "places = places.with_column('LAT',call_function('ST_Y',col('GEOMETRY')))\n",
    "places.limit(100)"
   ]
  },
  {
   "cell_type": "markdown",
   "id": "d12c31a7-1337-4f2b-afec-c2e6b14e4cbf",
   "metadata": {
    "collapsed": false,
    "name": "cell32"
   },
   "source": [
    "#### Build a map layer to view the restaurants "
   ]
  },
  {
   "cell_type": "code",
   "execution_count": null,
   "id": "4db43736-120f-4cb6-8c98-c31b39c2881a",
   "metadata": {
    "codeCollapsed": false,
    "collapsed": false,
    "language": "python",
    "name": "cell8"
   },
   "outputs": [],
   "source": [
    "placespd = places.to_pandas()\n",
    "poi_l = pdk.Layer(\n",
    "            'ScatterplotLayer',\n",
    "            data=placespd,\n",
    "            get_position='[LON, LAT]',\n",
    "            get_color='[255,255,255]',\n",
    "            get_radius=600,\n",
    "            pickable=True)\n",
    "\n",
    "#### render the map showing trainstations based on overture maps\n",
    "    \n",
    "st.pydeck_chart(pdk.Deck(\n",
    "    map_style=None,\n",
    "    initial_view_state=pdk.ViewState(\n",
    "        latitude=LAT,\n",
    "        longitude=LON,\n",
    "        zoom=5,\n",
    "        height=400\n",
    "        ),\n",
    "    \n",
    "layers= [polygon_layer, poi_l], tooltip = {'text':\"Station Name: {NAME}, alternate: {ALTERNATE}\"}\n",
    "\n",
    "))"
   ]
  },
  {
   "cell_type": "markdown",
   "id": "f148da87-c89a-4149-a033-8ed974517ae7",
   "metadata": {
    "collapsed": false,
    "name": "cell48"
   },
   "source": [
    "#### Now add the Train Stations"
   ]
  },
  {
   "cell_type": "code",
   "execution_count": null,
   "id": "290c09f5-62a2-4bfd-829e-53fe33ebd4b0",
   "metadata": {
    "codeCollapsed": true,
    "collapsed": false,
    "language": "python",
    "name": "cell9"
   },
   "outputs": [],
   "source": [
    "trains_latlon_renamed = trains_latlon\n",
    "\n",
    "trains_latlon_renamed = trains_latlon_renamed.with_column_renamed('\"CrsCode\"','NAME')\n",
    "trains_latlon_renamed = trains_latlon_renamed.with_column_renamed('\"Postcode\"','ALTERNATE')\n",
    "trains_latlon_renamed = trains_latlon_renamed.with_column_renamed('\"Latitude\"','LAT')\n",
    "trains_latlon_renamed = trains_latlon_renamed.with_column_renamed('\"Longitude\"','LON')\n",
    "trains_latlon_renamed_pd = trains_latlon_renamed.to_pandas()\n",
    "\n",
    "nw_trains_l = pdk.Layer(\n",
    "            'ScatterplotLayer',\n",
    "            data=trains_latlon_renamed_pd,\n",
    "            get_position='[LON, LAT]',\n",
    "            get_color='[0,187,2]',\n",
    "            get_radius=600,\n",
    "            pickable=True)\n",
    "\n",
    "#### render the map showing trainstations based on overture maps\n",
    "    \n",
    "st.pydeck_chart(pdk.Deck(\n",
    "    map_style=None,\n",
    "    initial_view_state=pdk.ViewState(\n",
    "        latitude=LAT,\n",
    "        longitude=LON,\n",
    "        zoom=5,\n",
    "        height=400\n",
    "        ),\n",
    "    \n",
    "layers= [polygon_layer, poi_l, nw_trains_l], tooltip = {'text':\"Station Name: {NAME}, alternate: {ALTERNATE}\"}\n",
    "\n",
    "))"
   ]
  },
  {
   "cell_type": "markdown",
   "id": "8d6f7d8e-6479-42ca-9f0e-2bdd5298be48",
   "metadata": {
    "collapsed": false,
    "name": "cell33"
   },
   "source": [
    "#### View the train station information - will be nice if we could have this all in a tool tip"
   ]
  },
  {
   "cell_type": "code",
   "execution_count": null,
   "id": "662b4781-638e-48fd-b8c5-c3c54bd3325e",
   "metadata": {
    "codeCollapsed": false,
    "collapsed": false,
    "language": "python",
    "name": "cell14"
   },
   "outputs": [],
   "source": [
    "further_train_info = session.table('NORTHERN_TRAINS_STATION_DATA.TESTING.\"STATION ATTRIBUTES 1\"')\n",
    "further_train_info.limit(4)"
   ]
  },
  {
   "cell_type": "markdown",
   "id": "0728d4b4-e3c1-4c36-beaf-4a04e8681f44",
   "metadata": {
    "collapsed": false,
    "name": "cell34"
   },
   "source": [
    "#### Use Snowflake Artic to create a summary report of each train station so we can use it in a tool tip"
   ]
  },
  {
   "cell_type": "code",
   "execution_count": null,
   "id": "b432c6cb-db48-4be3-84c6-c874d46864a4",
   "metadata": {
    "codeCollapsed": false,
    "collapsed": false,
    "language": "python",
    "name": "cell15"
   },
   "outputs": [],
   "source": [
    "further_train_info= further_train_info.with_column('OBJECT',object_construct(lit('CRS Code'),\n",
    "                                                                             col('\"CRS Code\"'),\n",
    "                                                                             lit('Full Timetable Calls'),\n",
    "                                                                             col('\"Dec21 Weekday Full Timetable Daily Calls\"').astype(IntegerType()),\n",
    "                                                                             lit('Emergency Timetable Calls'),\n",
    "                                                                             col('\"Dec21 Weekday Emergency Timetable Daily Calls\"').astype(IntegerType()),\n",
    "                                                                             lit('Footfall'),\n",
    "                                                                             col( '\"ORR Station Footfall 2020-21\"').astype(IntegerType()),\n",
    "                                                                             lit('Parking'),\n",
    "                                                                             col('\"Car Parking - Free/Chargeable\"'),\n",
    "                                                                             lit('MP'),\n",
    "                                                                             col(\"MP\"),\n",
    "                                                                             lit(\"Political Party\"),\n",
    "                                                                             col('\"Political Party\"'),\n",
    "                                                                             lit('Car Parking Spaces'),\n",
    "                                                                             col('\"Car Parking Spaces\"').astype(IntegerType()),\n",
    "                                                                             lit('Staffed?'),\n",
    "                                                                             col('\"Staffed?\"')))\n",
    "prompt = 'In less than 200 words, write a summary based on the following information'\n",
    "\n",
    "prompt2 = 'Do not include Based on the provided information'\n",
    "\n",
    "further_train_info = further_train_info.select('\"CRS Code\"','MP','\"Political Party\"', call_function('snowflake.cortex.complete','snowflake-arctic',concat(lit(prompt),col('OBJECT').astype(StringType()),lit('prompt2'))).alias('ALTERNATE'))\n",
    "\n",
    "further_train_info.write.mode('overwrite').save_as_table(\"DATA.TRAIN_STATION_INFORMATION\")\n",
    "session.table('DATA.TRAIN_STATION_INFORMATION')"
   ]
  },
  {
   "cell_type": "markdown",
   "id": "4b3a9a60-d4ae-4187-bc8c-33998ec472a6",
   "metadata": {
    "collapsed": false,
    "name": "cell35"
   },
   "source": [
    "#### Display the new tool tip on the map"
   ]
  },
  {
   "cell_type": "code",
   "execution_count": null,
   "id": "f2f922af-7977-457c-80c6-074af3813574",
   "metadata": {
    "codeCollapsed": false,
    "collapsed": false,
    "language": "python",
    "name": "cell16"
   },
   "outputs": [],
   "source": [
    "trains_latlon_renamed = trains_latlon\n",
    "\n",
    "trains_latlon_renamed = trains_latlon_renamed.with_column_renamed('\"CrsCode\"','NAME')\n",
    "trains_latlon_renamed = trains_latlon_renamed.with_column_renamed('\"Latitude\"','LAT')\n",
    "trains_latlon_renamed = trains_latlon_renamed.with_column_renamed('\"Longitude\"','LON')\n",
    "\n",
    "station_info = session.table('DATA.TRAIN_STATION_INFORMATION')\n",
    "\n",
    "trains_latlon_renamed = trains_latlon_renamed.join(station_info,station_info['\"CRS Code\"']==trains_latlon_renamed['NAME']).drop('\"CRS Code\"')\n",
    "trains_latlon_renamed_pd = trains_latlon_renamed.to_pandas()\n",
    "\n",
    "nw_trains_l = pdk.Layer(\n",
    "            'ScatterplotLayer',\n",
    "            data=trains_latlon_renamed_pd,\n",
    "            get_position='[LON, LAT]',\n",
    "            get_color='[0,187,2]',\n",
    "            get_radius=600,\n",
    "            pickable=True)\n",
    "\n",
    "#### render the map showing trainstations based on overture maps\n",
    "\n",
    "tooltip = {\n",
    "   \"html\": \"\"\"<b>Name:</b> {NAME} <br> <b>Alternate:</b> {ALTERNATE}\"\"\",\n",
    "   \"style\": {\n",
    "       \"width\":\"50%\",\n",
    "        \"backgroundColor\": \"steelblue\",\n",
    "        \"color\": \"white\",\n",
    "       \"text-wrap\": \"balance\"\n",
    "   }\n",
    "}\n",
    "    \n",
    "st.pydeck_chart(pdk.Deck(\n",
    "    map_style=None,\n",
    "    initial_view_state=pdk.ViewState(\n",
    "        latitude=LAT,\n",
    "        longitude=LON,\n",
    "        zoom=5,\n",
    "        height=700\n",
    "        ),\n",
    "    \n",
    "layers= [polygon_layer, poi_l, nw_trains_l], tooltip = tooltip\n",
    "\n",
    "))"
   ]
  },
  {
   "cell_type": "markdown",
   "id": "f3af2195-4ceb-494d-a540-56f8ac095caf",
   "metadata": {
    "collapsed": false,
    "name": "cell36"
   },
   "source": [
    "#### Create a layer with includes key events - we dont know what the events are so we will retrieve a list of them - this is data based on what is in the trained model"
   ]
  },
  {
   "cell_type": "code",
   "execution_count": null,
   "id": "01894362-4c29-44cf-8409-1fd82d5b22be",
   "metadata": {
    "codeCollapsed": false,
    "collapsed": false,
    "language": "python",
    "name": "cell10"
   },
   "outputs": [],
   "source": [
    "json1 = '''{\"DATE\":\"YYYY-MM-DD\", \"NAME\":\"event\",DESCRIPTION:\"describe what the event is\" \"CENTROID\":{\n",
    "  \"coordinates\": [\n",
    "    0.000000<<<this needs to be longitude,\n",
    "    0.000000<<<<this needs to be latitude\n",
    "  ],\n",
    "  \"type\": \"Point\"\n",
    "},\"COLOR\":\"Random bright and unique color in RGB presented in an array\"}'''\n",
    "\n",
    "\n",
    "prompt = f''' Retrieve 6 events within the north of england and will happen in 2024.  do not include commentary or notes retrive this in the following json format {json1}  '''\n",
    "events = session.create_dataframe([{'prompt':prompt}])\n",
    "\n",
    "events = events.select(call_function('SNOWFLAKE.CORTEX.COMPLETE','snowflake-arctic',prompt).alias('EVENT_DATA'))\n",
    "\n",
    "events.write.mode('overwrite').save_as_table(\"DATA.EVENTS_IN_THE_NORTH\")\n",
    "session.table('DATA.EVENTS_IN_THE_NORTH')"
   ]
  },
  {
   "cell_type": "markdown",
   "id": "04a0fc8e-2a98-48aa-8817-bae86bcb1a20",
   "metadata": {
    "collapsed": false,
    "name": "cell37"
   },
   "source": [
    "#### Flatten the data so we can use in our map"
   ]
  },
  {
   "cell_type": "code",
   "execution_count": null,
   "id": "e5abd6af-6ff3-4930-83ff-139a9462febe",
   "metadata": {
    "collapsed": false,
    "language": "python",
    "name": "cell26"
   },
   "outputs": [],
   "source": [
    "events = session.table('DATA.EVENTS_IN_THE_NORTH')\n",
    "events = events.join_table_function('flatten',parse_json('EVENT_DATA')).select('VALUE')\n",
    "events=events.with_column('NAME',col('VALUE')['NAME'].astype(StringType()))\n",
    "events=events.with_column('DESCRIPTION',col('VALUE')['DESCRIPTION'].astype(StringType()))\n",
    "events=events.with_column('CENTROID',to_geography(col('VALUE')['CENTROID']))\n",
    "events=events.with_column('COLOR',col('VALUE')['COLOR'])\n",
    "events=events.with_column('DATE',col('VALUE')['DATE'].astype(DateType())).drop('VALUE')\n",
    "events"
   ]
  },
  {
   "cell_type": "code",
   "execution_count": null,
   "id": "f858a6aa-5c09-491e-84b4-ad02889ee9c5",
   "metadata": {
    "codeCollapsed": false,
    "collapsed": false,
    "language": "python",
    "name": "cell11"
   },
   "outputs": [],
   "source": [
    "events=events.with_column('H3',call_function('H3_POINT_TO_CELL_STRING',col('CENTROID'),lit(5)))\n",
    "\n",
    "events"
   ]
  },
  {
   "cell_type": "markdown",
   "id": "f3e7cd2c-425a-4f98-933e-040a705a1901",
   "metadata": {
    "collapsed": false,
    "name": "cell13"
   },
   "source": [
    "#### Create the event layer on the map to show the events"
   ]
  },
  {
   "cell_type": "code",
   "execution_count": null,
   "id": "ade9f728-2027-40f5-9e2a-f4f4e1d2f979",
   "metadata": {
    "codeCollapsed": false,
    "collapsed": false,
    "language": "python",
    "name": "cell12"
   },
   "outputs": [],
   "source": [
    "events = events.with_column('R',col('COLOR')[0])\n",
    "events = events.with_column('G',col('COLOR')[1])\n",
    "events = events.with_column('B',col('COLOR')[2])\n",
    "events = events.with_column_renamed('DESCRIPTION','ALTERNATE')\n",
    "eventspd = events.group_by('H3','NAME','ALTERNATE','R','G','B').count().to_pandas()\n",
    "\n",
    "st.write(eventspd)\n",
    "\n",
    "h3_events = pdk.Layer(\n",
    "        \"H3HexagonLayer\",\n",
    "        eventspd,\n",
    "        pickable=True,\n",
    "        stroked=True,\n",
    "        filled=True,\n",
    "        extruded=False,\n",
    "        get_hexagon=\"H3\",\n",
    "        get_fill_color=[\"255-R\",\"255-G\",\"255-B\"],\n",
    "        line_width_min_pixels=2,\n",
    "        opacity=0.4)\n",
    "\n",
    "#### render the map showing trainstations based on overture maps\n",
    "\n",
    "tooltip = {\n",
    "   \"html\": \"\"\"<b>Name:</b> {NAME} <br> <b>Alternate:</b> {ALTERNATE}\"\"\",\n",
    "   \"style\": {\n",
    "       \"width\":\"50%\",\n",
    "        \"backgroundColor\": \"steelblue\",\n",
    "        \"color\": \"white\",\n",
    "       \"text-wrap\": \"balance\"\n",
    "   }\n",
    "}\n",
    "\n",
    "st.pydeck_chart(pdk.Deck(\n",
    "    map_style=None,\n",
    "    initial_view_state=pdk.ViewState(\n",
    "        latitude=LAT,\n",
    "        longitude=LON,\n",
    "        zoom=5,\n",
    "        height=600\n",
    "        ),\n",
    "    \n",
    "layers= [polygon_layer, poi_l, h3_events,nw_trains_l, ], tooltip = tooltip\n",
    "\n",
    "))"
   ]
  },
  {
   "cell_type": "markdown",
   "id": "4b0eac12-33db-4599-805d-184996baa597",
   "metadata": {
    "collapsed": false,
    "name": "cell38"
   },
   "source": [
    "#### Filter the train stations and resturants that might be impacted by the events"
   ]
  },
  {
   "cell_type": "code",
   "execution_count": null,
   "id": "3e38779e-3a01-4b82-bf8e-5f855e97908f",
   "metadata": {
    "codeCollapsed": false,
    "collapsed": false,
    "language": "python",
    "name": "cell17"
   },
   "outputs": [],
   "source": [
    "\n",
    "trains_h3 = trains_latlon_renamed.with_column('H3',call_function('H3_LATLNG_TO_CELL_STRING',col('LAT'),col('LON'),lit(5)))\n",
    "trains_h3 = trains_h3.join(events.select('H3',col('NAME').alias('EVENT_NAME'),'DATE'),'H3')\n",
    "\n",
    "st.markdown('#### Affected Train Stations')\n",
    "st.write(trains_h3.limit(1))\n",
    "places_h3 = places.with_column('H3',call_function('H3_POINT_TO_CELL_STRING',col('GEOMETRY'),lit(5)))\n",
    "places_h3 = places_h3.join(events.select('H3','CENTROID',col('NAME').alias('EVENT_NAME'),'DATE'),'H3')\n",
    "places_h3 = places_h3.with_column('DISTANCE_FROM_EVENT',call_function('ST_DISTANCE',col('CENTROID'),col('GEOMETRY')))\n",
    "places_h3 = places_h3.filter(col('DISTANCE_FROM_EVENT')< 1000)\n",
    "places_h3 = places_h3.sort(col('DISTANCE_FROM_EVENT').asc())\n",
    "st.markdown('#### Affected Restaurants')                             \n",
    "st.write(places_h3.limit(10))\n",
    "\n",
    "\n",
    "\n"
   ]
  },
  {
   "cell_type": "markdown",
   "id": "b7f72b3c-d529-4aba-b274-13368212d44e",
   "metadata": {
    "collapsed": false,
    "name": "cell39"
   },
   "source": [
    "#### Build a places object to feed affected resturants into an LLM"
   ]
  },
  {
   "cell_type": "code",
   "execution_count": null,
   "id": "d0e50c65-5544-419b-bda1-a4e2054f40be",
   "metadata": {
    "codeCollapsed": false,
    "collapsed": false,
    "language": "python",
    "name": "cell20"
   },
   "outputs": [],
   "source": [
    "object3 = trains_h3.select('H3','MP').distinct()\n",
    "object3 = places_h3.join(object3,'H3')  \n",
    "object3 = object3.group_by('MP').agg(array_agg(object_construct(lit('NAME'),\n",
    "                                                                col('NAME'),\n",
    "                                                                lit('DISTANCE_FROM_EVENT'),\n",
    "                                                                round('DISTANCE_FROM_EVENT',5).astype(DecimalType(20,4)),\n",
    "                                                                lit('PHONE'),\n",
    "                                                                col('PHONE'),\n",
    "                                                               lit('WEBSITE'),\n",
    "                                                               col('WEBSITE'))).within_group('MP').alias('RESTAURANTS'))\n",
    "object3"
   ]
  },
  {
   "cell_type": "markdown",
   "id": "2d7c2eb6-43fd-454b-9a84-64bf217154f7",
   "metadata": {
    "collapsed": false,
    "name": "cell41"
   },
   "source": [
    "#### Build a trains object to feed affected train stations into the LLM"
   ]
  },
  {
   "cell_type": "code",
   "execution_count": null,
   "id": "d45b132e-ecbf-4efa-8a76-cffc9f682ce8",
   "metadata": {
    "codeCollapsed": false,
    "collapsed": false,
    "language": "python",
    "name": "cell19"
   },
   "outputs": [],
   "source": [
    "object1 = trains_h3.group_by('MP').agg(array_agg(object_construct(lit('Train Station information'),col('ALTERNATE'))).within_group('MP').alias('TRAIN_STATIONS'))\n",
    "object1"
   ]
  },
  {
   "cell_type": "markdown",
   "id": "beff6203-de8d-46eb-9380-39390dcc5f0e",
   "metadata": {
    "collapsed": false,
    "name": "cell40"
   },
   "source": [
    "#### Build an events object to feed affected trains into an LLM"
   ]
  },
  {
   "cell_type": "code",
   "execution_count": null,
   "id": "de58fb97-dec3-41c9-befa-eb56f2378c1b",
   "metadata": {
    "codeCollapsed": false,
    "collapsed": false,
    "language": "python",
    "name": "cell18"
   },
   "outputs": [],
   "source": [
    "object2 = trains_h3.select('MP','EVENT_NAME','DATE').distinct()\n",
    "object2 = object2.group_by('MP').agg(array_agg(object_construct(lit('EVENT'),col('EVENT_NAME'),lit('DATE'),col('DATE'))).within_group('MP').alias('EVENTS'))\n",
    "object2"
   ]
  },
  {
   "cell_type": "markdown",
   "id": "58e68a85-f464-462d-b737-0382f9d0a44e",
   "metadata": {
    "collapsed": false,
    "name": "cell42"
   },
   "source": [
    "#### Create a table which joins all of these objects together"
   ]
  },
  {
   "cell_type": "code",
   "execution_count": null,
   "id": "4699a450-49c2-40c2-aff1-558ecc859f2f",
   "metadata": {
    "codeCollapsed": false,
    "collapsed": false,
    "language": "python",
    "name": "cell21"
   },
   "outputs": [],
   "source": [
    "all_3 = object1.join(object2,'MP')\n",
    "all_3 = all_3.join(object3,'MP')\n",
    "\n",
    "all_3.write.mode('overwrite').save_as_table(\"DATA.EVENTS_AND_WHAT_IS_AFFECTED\")"
   ]
  },
  {
   "cell_type": "markdown",
   "id": "bc24c145-877c-41c1-809f-709dc329d88d",
   "metadata": {
    "collapsed": false,
    "name": "cell43"
   },
   "source": [
    "#### Select the table but only display the first 8 resturants for each MP"
   ]
  },
  {
   "cell_type": "code",
   "execution_count": null,
   "id": "199f7176-ca4c-42e8-a3a9-3e6d07b50600",
   "metadata": {
    "codeCollapsed": false,
    "collapsed": false,
    "language": "python",
    "name": "cell22"
   },
   "outputs": [],
   "source": [
    "\n",
    "all_3 = session.table(\"DATA.EVENTS_AND_WHAT_IS_AFFECTED\")\n",
    "all_3 = all_3.select('MP','TRAIN_STATIONS','EVENTS',\n",
    "                     \n",
    "array_slice(col('RESTAURANTS'),lit(0),lit(8)).alias('RESTAURANTS'),\n",
    "\n",
    "                    )\n",
    "\n",
    "all_3"
   ]
  },
  {
   "cell_type": "markdown",
   "id": "77ee06f5-e349-492b-8283-c2ddd48c50c0",
   "metadata": {
    "collapsed": false,
    "name": "cell44"
   },
   "source": [
    "#### Create an LLM prompt"
   ]
  },
  {
   "cell_type": "code",
   "execution_count": null,
   "id": "f3cd7b31-ddab-4b6f-bfa6-ef68a18f9701",
   "metadata": {
    "codeCollapsed": false,
    "collapsed": false,
    "language": "python",
    "name": "cell23"
   },
   "outputs": [],
   "source": [
    "prompt = concat(lit('Write to this MP:'),\n",
    "                col('MP'),\n",
    "               lit('about these events: '),\n",
    "               col('EVENTS').astype(StringType()),\n",
    "               lit('effecting these stations: '),\n",
    "               col('TRAIN_STATIONS').astype(StringType()),\n",
    "                lit('And these Restaurants: '),\n",
    "                col('RESTAURANTS').astype(StringType()),\n",
    "               lit('The letter is written by Becky - a concerned Citizen'))"
   ]
  },
  {
   "cell_type": "markdown",
   "id": "3e719cac-3133-4c42-8603-fcdea1b3bd5a",
   "metadata": {
    "collapsed": false,
    "name": "cell45"
   },
   "source": [
    "#### Call the LLM  baed on the above prompt"
   ]
  },
  {
   "cell_type": "code",
   "execution_count": null,
   "id": "e04f9fab-25a9-45e5-84d7-4df8207aac26",
   "metadata": {
    "codeCollapsed": false,
    "collapsed": false,
    "language": "python",
    "name": "cell24"
   },
   "outputs": [],
   "source": [
    "letters = all_3.select('MP',call_function('SNOWFLAKE.CORTEX.COMPLETE','mixtral-8x7b',prompt).alias('LETTER'))\n",
    "letters.write.mode('overwrite').save_as_table(\"DATA.LETTERS_TO_MP\")"
   ]
  },
  {
   "cell_type": "markdown",
   "id": "104bc8e0-664f-4e85-944e-3a3b32b1264d",
   "metadata": {
    "collapsed": false,
    "name": "cell46"
   },
   "source": [
    "#### View the letters"
   ]
  },
  {
   "cell_type": "code",
   "execution_count": null,
   "id": "f0c135f3-0cc9-41d2-bd8c-52e8c1025c78",
   "metadata": {
    "codeCollapsed": false,
    "collapsed": false,
    "language": "python",
    "name": "cell25"
   },
   "outputs": [],
   "source": [
    "letters = session.table('DATA.LETTERS_TO_MP')\n",
    "letters"
   ]
  },
  {
   "cell_type": "markdown",
   "id": "99d37753-89e1-48ff-9b07-ae3027d5ee8f",
   "metadata": {
    "collapsed": false,
    "name": "cell47"
   },
   "source": [
    "#### View an Example of one letter"
   ]
  },
  {
   "cell_type": "code",
   "execution_count": null,
   "id": "8056c208-3631-4cab-a2a5-2201a9c58380",
   "metadata": {
    "collapsed": false,
    "language": "python",
    "name": "cell49"
   },
   "outputs": [],
   "source": [
    "letterspd = letters.to_pandas()\n",
    "\n",
    "selected_letter = st.slider('Choose Letter:',0,letterspd.shape[0]-1,1)\n",
    "st.write(letterspd.LETTER.iloc[selected_letter])"
   ]
  }
 ],
 "metadata": {
  "kernelspec": {
   "display_name": "Streamlit Notebook",
   "name": "streamlit"
  }
 },
 "nbformat": 4,
 "nbformat_minor": 5
}
