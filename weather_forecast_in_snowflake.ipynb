{
 "metadata": {
  "kernelspec": {
   "display_name": "Streamlit Notebook",
   "name": "streamlit"
  }
 },
 "nbformat_minor": 5,
 "nbformat": 4,
 "cells": [
  {
   "cell_type": "markdown",
   "id": "1041d8c8-d335-4c34-ae56-8d365f2d78d5",
   "metadata": {
    "name": "cell19",
    "collapsed": false
   },
   "source": "#### Import Libraries"
  },
  {
   "cell_type": "code",
   "id": "193af2eb-ef05-444f-8ac1-2c0d50e16c59",
   "metadata": {
    "language": "python",
    "name": "cell1",
    "collapsed": false
   },
   "outputs": [],
   "source": "# Import python packages\nimport streamlit as st\nfrom snowflake.snowpark.context import get_active_session\nfrom snowflake.snowpark.functions import max,min,avg,call_function, month, dayofmonth, parse_json,split,substr,hour,replace,concat,col,lit,array_slice,array_agg,object_construct,to_time, date_add,to_date, current_date\nfrom snowflake.snowpark.types import StringType,VariantType, DateType, IntegerType,DecimalType\n\nimport pandas as pd\nimport altair as alt\n\n\n\n# Write directly to the app\nst.title(\"Northern Trains Weather Data :train:\")\nst.write(\n    \"\"\"This app shows the weather that may effect Northern Trains).\n    \"\"\"\n)\n\n# Get the current credentials\nsession = get_active_session()",
   "execution_count": null
  },
  {
   "cell_type": "code",
   "id": "6891c208-6bb3-45e8-a7b6-f304c72d5b40",
   "metadata": {
    "language": "python",
    "name": "cell2",
    "collapsed": false
   },
   "outputs": [],
   "source": "st.markdown('#### A dataframe which shows all the train stations')\ntrains_latlon = session.table('NORTHERN_TRAINS_STATION_DATA.TESTING.\"StationLatLong\"')\ntrains_latlon",
   "execution_count": null
  },
  {
   "cell_type": "markdown",
   "id": "51e29470-8716-4cdf-a526-acb628ce59d4",
   "metadata": {
    "name": "cell4"
   },
   "source": "#### Create a Postcode Sector Column"
  },
  {
   "cell_type": "code",
   "id": "11858021-63d1-4f2b-bfbc-e00c030eeadd",
   "metadata": {
    "language": "python",
    "name": "cell3",
    "collapsed": false
   },
   "outputs": [],
   "source": "trains_latlon = trains_latlon.with_column('POSTCODE_SPLIT',split(col('\"Postcode\"'),lit(' ')))\ntrains_latlon = trains_latlon.with_column('Postcode_outcode',col('POSTCODE_SPLIT')[0].astype(StringType()))\ntrains_latlon = trains_latlon.with_column('Postcode_inward_code',col('POSTCODE_SPLIT')[1].astype(StringType()))\ntrains_latlon = trains_latlon.with_column('Postcode_Sector',concat('POSTCODE_OUTCODE',lit('_'),substr(col('Postcode_inward_code'),1,1)))\ntrains_latlon = trains_latlon.drop('POSTCODE_SPLIT','POSTCODE_OUTCODE','POSTCODE_INWARD_CODE')\ntrains_latlon",
   "execution_count": null
  },
  {
   "cell_type": "code",
   "id": "289d655a-20c9-4ecf-9670-dbed789ebada",
   "metadata": {
    "language": "python",
    "name": "cell5",
    "collapsed": false
   },
   "outputs": [],
   "source": "### load in hourly forecast\nweather_hourly = session.table('POSTCODE_SECTOR_WEATHER_FORECASTS_PRIVATE_BETA.BD1_BETA.\"advanced_with_solar_hourly_view\"')\n\n### load in daily forecast\n\nweather_daily = session.table('POSTCODE_SECTOR_WEATHER_FORECASTS_PRIVATE_BETA.BD1_BETA.\"advanced_with_solar_daily_view\"')\n\nweather_hourly_max = weather_hourly.agg(max('\"Issued_at\"').alias('MAX'))\nweather_hourly = weather_hourly.join(weather_hourly_max,weather_hourly_max['MAX']==weather_hourly['\"Issued_at\"']).drop('MAX')\n\n### find the latest weather forecast\nweather_daily_max = weather_daily.agg(max('\"Issued_at\"').alias('MAX'))\n\n### join the latest issue date to the dataset in order to filter it.\nweather_daily = weather_daily.join(weather_daily_max,weather_daily_max['MAX']==weather_daily['\"Issued_at\"']).drop('MAX')\n\n\n### repeat with the hourly dataset\nweather_hourly = weather_hourly.join(trains_latlon,trains_latlon['POSTCODE_SECTOR']==weather_hourly['PC_SECT']).drop('PC_SECT')\nweather_hourly = weather_hourly.with_column('VALIDITY_DATE',to_date('\"Validity_date_and_time\"'))\n\nst.markdown('#### HOURLY DATA')\nst.dataframe(weather_hourly.limit(10))\n\n#### join with the the train station data by the PC_SECT field\nweather_daily = weather_daily.join(trains_latlon,trains_latlon['POSTCODE_SECTOR']==weather_daily['PC_SECT']).drop('PC_SECT')\n\nst.markdown('#### DAILY DATA')\nst.dataframe(weather_daily.limit(10))",
   "execution_count": null
  },
  {
   "cell_type": "markdown",
   "id": "b3cb5aea-b642-41d3-8541-3b809fdde2cf",
   "metadata": {
    "name": "cell7",
    "collapsed": false
   },
   "source": "### Create a Human Readable Weather Forecast"
  },
  {
   "cell_type": "markdown",
   "id": "31a93c73-c133-46fb-b64a-ca1411eb1f27",
   "metadata": {
    "name": "cell13",
    "collapsed": false
   },
   "source": "#### STEP 1 - Create Data Filters"
  },
  {
   "cell_type": "code",
   "id": "24cb50a3-2487-4841-ab60-647546bef1ee",
   "metadata": {
    "language": "python",
    "name": "cell9",
    "collapsed": false
   },
   "outputs": [],
   "source": "station_filter = trains_latlon.select('\"CrsCode\"')\ndate_filter = weather_hourly.agg(max('VALIDITY_DATE').alias('MAX'),\n                          min('VALIDITY_DATE').alias('MIN')).to_pandas()\n\n\n\n\nselected_station = st.selectbox('Select Station:',station_filter)\nselected_date = st.date_input('Select Date:',date_filter.MIN.iloc[0],date_filter.MIN.iloc[0],date_filter.MAX.iloc[0])",
   "execution_count": null
  },
  {
   "cell_type": "markdown",
   "id": "29efb47c-1183-43ae-8d9a-e9e57aa41dbf",
   "metadata": {
    "name": "cell12",
    "collapsed": false
   },
   "source": "#### Create the Prompt"
  },
  {
   "cell_type": "code",
   "id": "64930c40-cb52-4173-8350-717daf9c5d7c",
   "metadata": {
    "language": "python",
    "name": "cell8",
    "collapsed": false
   },
   "outputs": [],
   "source": "todaypd = weather_daily.filter((col('\"Validity_date\"')==date_add(lit(selected_date),1))\n                                     & (col('\"CrsCode\"')==selected_station)).to_pandas()\n\nst.write(todaypd)\nmelt = pd.melt(todaypd)\nmelt['variable'] = melt['variable'].astype(\"string\")\nmelt['value'] = melt['value'].astype(\"string\")\n\n\n##### create an object to feed into the LLM\nobject = session.create_dataframe(melt)\nobject = object.with_column('object',object_construct(col('\"variable\"'),col('\"value\"')))\n    \nobject = object.select(array_agg('OBJECT').alias('OBJECT'))\n\n\n\nprompt = object.select(concat(lit('Summarise the weather report in 300 words for today which includes relevant emojis to summarise the weather based on the following dataset'),\n                    col('object').astype(StringType()),\n                   lit('USE APPROPIATE MARKDOWN TO ENHANCE THE PRESENTATION. NO COMMENTS')).alias('PROMPT'))\n\nst.code(prompt.to_pandas().PROMPT.iloc[0])\n\n",
   "execution_count": null
  },
  {
   "cell_type": "markdown",
   "id": "17ad3cbc-b8f0-441b-a1dc-f2f016235d38",
   "metadata": {
    "name": "cell11",
    "collapsed": false
   },
   "source": "#### Run the LLM"
  },
  {
   "cell_type": "code",
   "id": "6dc5a616-c539-4d14-9572-2bd1953717c7",
   "metadata": {
    "language": "python",
    "name": "cell10",
    "collapsed": false
   },
   "outputs": [],
   "source": "complete = prompt.select(call_function('snowflake.cortex.complete',lit('mixtral-8x7b'),col('PROMPT')))\nst.write(complete.collect()[0][0])",
   "execution_count": null
  },
  {
   "cell_type": "code",
   "id": "c24e9f84-cd5b-42a1-be43-7f1cc2bb9ced",
   "metadata": {
    "language": "python",
    "name": "cell6",
    "collapsed": false
   },
   "outputs": [],
   "source": "\nweather_filter_hour = weather_hourly.filter(col('\"CrsCode\"') == selected_station)\nweather_filter_day = weather_daily.filter(col('\"CrsCode\"') == selected_station)\n\nweather_filter_hour = weather_filter_hour.filter(col('VALIDITY_DATE')==selected_date)\n#weather_filter_day = weather_filter_day.filter(col('\"Validity_date\"')==selected_date)\nweather_filter_hour = weather_filter_hour.with_column('HOUR',hour('\"Validity_date_and_time\"'))\n\n\nweather_filter_hour = weather_filter_hour.group_by('HOUR').agg(avg('\"Feels_like_temperature\"').alias('Feels Like'),\n                                                              avg('\"Screen_temperature\"').alias('\"Screen\"'),\n                                                               avg('\"Screen_Dew_Point_Temperature\"').alias('\"Dew Point\"'),\navg('\"UV_index\"').alias(' '),                                                        avg('\"Relative_humidity\"').alias('\"Relative\"'),                                                        avg('\"Wind_speed\"').alias('\"Speed\"'),\n avg('\"Wind_gust\"').alias('\"Gust\"'),).to_pandas()\n\n#weather_filter_hour\nst.markdown('#### 12 DAY DAILY FORECAST')\n\ncol1,col2 = st.columns(2)\nwith col1:\n    st.markdown('##### TEMPERATURE')\n#weather_filter_day\n\n    st.line_chart(weather_filter_day.to_pandas(),x='Validity_date',y=['Max_temperature_day','Max_feels_like_temperature_day','Min_feels_like_temperature_night'])\n\n\nwith col2:\n    st.markdown('##### HUMIDITY')\n#weather_filter_day\n\n    st.line_chart(weather_filter_day.to_pandas(),x='Validity_date',y=['Relative_humidity_Approx_Local_Midday','Relative_humidity_Approx_Local_Midnight'])\n\nst.divider()\n\nst.markdown('#### HOURLY VIEW')\n\ncol1,col2 = st.columns(2)\n\nwith col1:\n    st.markdown('##### TEMPERATURE')\n    st.line_chart(weather_filter_hour,x='HOUR',y=['Feels Like','Screen','Dew Point'])\nwith col2:\n    st.markdown('##### UV INDEX')\n    st.bar_chart(weather_filter_hour,x='HOUR',y=[' '])\n\nwith col1:\n    st.markdown('##### WIND')\n    st.line_chart(weather_filter_hour,x='HOUR',y=['Speed','Gust'])\nwith col2:\n    st.markdown('##### HUMIDITY')\n    st.bar_chart(weather_filter_hour,x='HOUR',y=['Relative'])",
   "execution_count": null
  },
  {
   "cell_type": "markdown",
   "id": "0eb506a9-4f37-4dff-a4e4-c89f1babe255",
   "metadata": {
    "name": "cell14"
   },
   "source": "#### Historic Weather Patterns for the Chosen Key events"
  },
  {
   "cell_type": "markdown",
   "id": "e11f6041-88bd-44ed-8102-1bf04c7e9507",
   "metadata": {
    "name": "cell16",
    "collapsed": false
   },
   "source": "##### Select the event data generated earlier"
  },
  {
   "cell_type": "code",
   "id": "b86d061c-bafc-4f0f-a38c-59fe8f7a48df",
   "metadata": {
    "language": "python",
    "name": "cell15",
    "collapsed": false
   },
   "outputs": [],
   "source": "Events = session.table('BUILD_UK.DATA.EVENTS_IN_THE_NORTH').join_table_function('flatten',parse_json('EVENT_DATA')).select('VALUE')\n\nEvents = Events.select(col('VALUE')['NAME'].astype(StringType()).alias('NAME'),\n              col('VALUE')['DESCRIPTION'].astype(StringType()).alias('DESCRIPTION')\n              ,col('VALUE')['COLOR'].alias('COLOR')\n              ,col('VALUE')['DATE'].astype(DateType()).alias('DATE'),col('VALUE')['CENTROID'].alias('CENTROID')).drop('VALUE')\n",
   "execution_count": null
  },
  {
   "cell_type": "markdown",
   "id": "8cd5868c-e8bb-4f0f-a0db-59741b4a800c",
   "metadata": {
    "name": "cell18",
    "collapsed": false
   },
   "source": "####  Use Cortex to help return a postcode sector for the given co-ordinates"
  },
  {
   "cell_type": "code",
   "id": "bb4caecf-95e3-4b20-b0cb-ca846e59df97",
   "metadata": {
    "language": "python",
    "name": "cell17",
    "collapsed": false
   },
   "outputs": [],
   "source": "Events = Events.with_column('SECTOR',call_function('SNOWFLAKE.CORTEX.COMPLETE',lit('mixtral-8x7b'), \n                                     concat(lit('Return the postcode sector for the following point:'),col('CENTROID').astype(StringType())\n                                            ,lit('RETURN THER RESULT IN JSON FORMAT. DO NOT RETURN EXPLANATIONS.  only return JSON.'))))\n\nEvents = Events.with_column('SECTOR',parse_json('SECTOR')['postcode_sector'].astype(StringType()))\nEvents = Events.with_column('SECTOR',replace(col('SECTOR'),lit(' '),lit('_')))\nEvents",
   "execution_count": null
  },
  {
   "cell_type": "markdown",
   "id": "f8e00d65-1e35-4b09-a522-db98694687aa",
   "metadata": {
    "name": "cell26",
    "collapsed": false
   },
   "source": "#### Load the daily weather forecast data"
  },
  {
   "cell_type": "code",
   "id": "071ca387-f1d1-4848-8703-a0c06e73673b",
   "metadata": {
    "language": "python",
    "name": "cell20",
    "collapsed": false
   },
   "outputs": [],
   "source": "historic_weather_forecasts = session.table('POSTCODE_SECTOR_WEATHER_FORECASTS_PRIVATE_BETA.BD1_BETA.\"advanced_with_solar_daily_view\"')",
   "execution_count": null
  },
  {
   "cell_type": "markdown",
   "id": "1b3e0a55-e5f7-4bff-94a0-5c70c150edbf",
   "metadata": {
    "name": "cell21",
    "collapsed": false
   },
   "source": "#### Filter by Event"
  },
  {
   "cell_type": "code",
   "id": "7a66b94c-e25f-46ab-a6af-508b70514fa9",
   "metadata": {
    "language": "python",
    "name": "cell22",
    "collapsed": false
   },
   "outputs": [],
   "source": "selected_event = st.selectbox('Select Event:', Events.select('NAME'))\n\nhistoric_weather_forecasts_events = historic_weather_forecasts.join(Events,(Events['SECTOR']==historic_weather_forecasts['PC_SECT']))\n\nhistoric_weather_forecasts_events = historic_weather_forecasts_events.filter((col('NAME')==selected_event)& (to_date('\"Issued_at\"').between(date_add(current_date(),lit(-10)),current_date()))) \n\n\n\n\n\n\n\n\nsource = historic_weather_forecasts_events.to_pandas()\n\n\ndef forecast_variations(measure):\n    return alt.Chart(source).mark_line().encode(\n    x='Validity_date:T',\n    y=f'{measure}:Q',\n    color=alt.Color('Issued_at:T',scale=alt.Scale(scheme='redyellowblue'))\n)\n\n\ncol1,col2 = st.columns(2)\n\nwith col1:\n    st.markdown('#### MAX TEMPERATURE FORECAST VARIATIONS')\n    st.altair_chart(forecast_variations('Max_temperature_day'), use_container_width=True)\nwith col2:\n    st.markdown('#### MIN TEMPERATURE FORECAST VARIATIONS')\n    st.altair_chart(forecast_variations('Min_temperature_night'), use_container_width=True)\n\nwith col1:\n    st.markdown('#### PROBABILITY OF RAIN DURING THE DAY')\n    st.altair_chart(forecast_variations('Probability_of_Rain_day'), use_container_width=True)\nwith col2:\n    st.markdown('#### PROBABILITY OF RAIN AT NIGHT')\n    st.altair_chart(forecast_variations('Probability_of_Rain_night'), use_container_width=True)\n\nwith col1:\n    st.markdown('#### PROBABILITY OF SUNSHINE DURING THE DAY')\n    st.altair_chart(forecast_variations('Probability_of_Sunshine_day'), use_container_width=True)\nwith col2:\n    st.markdown('#### PROBABILITY OF CLEAR SKIES AT NIGHT')\n    st.altair_chart(forecast_variations('Probability_of_Clear_Skies_night'), use_container_width=True)",
   "execution_count": null
  }
 ]
}