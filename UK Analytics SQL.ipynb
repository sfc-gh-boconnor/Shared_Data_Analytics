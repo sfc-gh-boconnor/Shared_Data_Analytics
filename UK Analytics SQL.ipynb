{
 "metadata": {
  "kernelspec": {
   "display_name": "Streamlit Notebook",
   "name": "streamlit"
  }
 },
 "nbformat_minor": 5,
 "nbformat": 4,
 "cells": [
  {
   "cell_type": "code",
   "id": "3775908f-ca36-4846-8f38-5adca39217f2",
   "metadata": {
    "language": "python",
    "name": "cell1",
    "collapsed": false
   },
   "source": "# Import python packages\nimport streamlit as st\nimport pandas as pd\n\n# We can also use Snowpark for our analyses!\nfrom snowflake.snowpark.context import get_active_session\nsession = get_active_session()\n",
   "execution_count": null,
   "outputs": []
  },
  {
   "cell_type": "code",
   "id": "1c38aee9-bb7b-4a37-9dbf-19319adb630f",
   "metadata": {
    "language": "sql",
    "name": "cell2",
    "collapsed": false
   },
   "outputs": [],
   "source": "SELECT * RENAME(\"Longitude\" AS LON, \"Latitude\" as LAT) FROM NORTHERN_TRAINS_STATION_DATA.TESTING.\"StationLatLong\"",
   "execution_count": null
  },
  {
   "cell_type": "code",
   "id": "519e09dc-a156-4a4a-a1d9-ca698c7f76d3",
   "metadata": {
    "language": "python",
    "name": "cell3",
    "collapsed": false
   },
   "outputs": [],
   "source": "st.map(cell2.to_df())",
   "execution_count": null
  },
  {
   "cell_type": "code",
   "id": "3115d82f-748d-4b5d-babe-5ee84a7ae5e6",
   "metadata": {
    "language": "sql",
    "name": "cell4",
    "collapsed": false
   },
   "outputs": [],
   "source": "select st_envelope(st_collect( st_makepoint(\"Longitude\",\"Latitude\")) ) BOUNDARY from NORTHERN_TRAINS_STATION_DATA.TESTING.\"StationLatLong\"",
   "execution_count": null
  },
  {
   "cell_type": "code",
   "id": "a0500197-7ce3-41a3-a601-2ada2a8eeca7",
   "metadata": {
    "language": "sql",
    "name": "cell5",
    "collapsed": false
   },
   "outputs": [],
   "source": "select \nst_envelope(st_collect( st_makepoint(\"Longitude\",\"Latitude\")) ) BOUNDARY, \nST_CENTROID(BOUNDARY) CENTROID,\nST_X(CENTROID) LON,\nST_Y(CENTROID) LAT\nfrom NORTHERN_TRAINS_STATION_DATA.TESTING.\"StationLatLong\"",
   "execution_count": null
  },
  {
   "cell_type": "code",
   "id": "b9a04ba7-8ea2-4603-a28d-478d92f60e19",
   "metadata": {
    "language": "python",
    "name": "cell6",
    "collapsed": false
   },
   "outputs": [],
   "source": "import json\nimport pydeck as pdk\n#find the centre point so the map will render from that location\n\n\n#create LON and LAT variables -- here we are passing our SQL to the streamlit app\n\ncentrepd = cell5.to_df().to_pandas()\nLON = centrepd.LON.iloc[0]\nLAT = centrepd.LAT.iloc[0]\n\n### transform the data in pandas so the pydeck visualisation tool can view it as a polygon\n\nenvelopepd = centrepd\nenvelopepd[\"coordinates\"] = centrepd[\"BOUNDARY\"].apply(lambda row: json.loads(row)[\"coordinates\"][0])\n\n\n\n\n\n####visualise on a map\n\n#### create a layer - this layer will visualise the rectangle\n\npolygon_layer = pdk.Layer(\n            \"PolygonLayer\",\n            envelopepd,\n            opacity=0.3,\n            get_polygon=\"coordinates\",\n            filled=True,\n            get_fill_color=[16, 14, 40],\n            auto_highlight=True,\n            pickable=False,\n        )\n\n \n#### render the map \n    \nst.pydeck_chart(pdk.Deck(\n    map_style=None,\n    initial_view_state=pdk.ViewState(\n        latitude=LAT,\n        longitude=LON,\n        zoom=5,\n        height=400\n        ),\n    \nlayers= [polygon_layer]\n\n))",
   "execution_count": null
  },
  {
   "cell_type": "code",
   "id": "9ef2bbd0-1a5f-4209-be9e-fb6bb3287635",
   "metadata": {
    "language": "sql",
    "name": "cell7",
    "collapsed": false
   },
   "outputs": [],
   "source": "select * from OVERTURE_MAPS__PLACES.CARTO.PLACE \nwhere ADDRESSES:list[0]:element:country = 'GB' limit 3",
   "execution_count": null
  },
  {
   "cell_type": "code",
   "id": "e8b69709-f0a2-440d-8330-a91361d14d0b",
   "metadata": {
    "language": "sql",
    "name": "cell8",
    "collapsed": false
   },
   "outputs": [],
   "source": "select \nNAMES:primary::text NAME,\nPHONES:list[0]:element::text PHONE,\nCATEGORIES:main::text CATEGORY,\nCATEGORIES:alternate:list[0]['element']::TEXT ALTERNATE,\nWEBSITES:list[0]['element']::TEXT WEBSITE,\nGEOMETRY\n\nfrom \n\nOVERTURE_MAPS__PLACES.CARTO.PLACE \nwhere ADDRESSES:list[0]:element:country = 'GB' and CATEGORY = 'train_station'",
   "execution_count": null
  },
  {
   "cell_type": "code",
   "id": "1202b439-bd32-4e61-8205-8d42b1013f61",
   "metadata": {
    "language": "sql",
    "name": "cell9",
    "collapsed": false
   },
   "outputs": [],
   "source": "select * from {{cell8}} A\ninner join {{cell5}} B on\n\nST_WITHIN(TO_GEOGRAPHY(A.GEOMETRY),TO_GEOGRAPHY(B.BOUNDARY))",
   "execution_count": null
  },
  {
   "cell_type": "code",
   "id": "28302928-4225-4c04-8048-719c743f718c",
   "metadata": {
    "language": "sql",
    "name": "cell10",
    "collapsed": false
   },
   "outputs": [],
   "source": "with \n\nplaces as \n(\nselect \nNAMES:primary::text NAME,\nPHONES:list[0]:element::text PHONE,\nCATEGORIES:main::text CATEGORY,\nCATEGORIES:alternate:list[0]['element']::TEXT ALTERNATE,\nWEBSITES:list[0]['element']::TEXT WEBSITE,\nGEOMETRY\n\nfrom \n\nOVERTURE_MAPS__PLACES.CARTO.PLACE \nwhere ADDRESSES:list[0]:element:country = 'GB' and CATEGORY = 'restaurant'),\n\nboundary as (select st_envelope(st_collect( st_makepoint(\"Longitude\",\"Latitude\")) )BOUNDARY from NORTHERN_TRAINS_STATION_DATA.TESTING.\"StationLatLong\")\n\n\nselect places.* , ST_X(GEOMETRY) LON, ST_Y(GEOMETRY) LAT  from places inner join boundary on  ST_WITHIN(places.GEOMETRY, boundary.BOUNDARY)",
   "execution_count": null
  },
  {
   "cell_type": "code",
   "id": "22a3cb17-cf9d-40c1-98ec-569ff6b792d5",
   "metadata": {
    "language": "python",
    "name": "cell11",
    "collapsed": false
   },
   "outputs": [],
   "source": "placespd = cell10.to_pandas()\n\npoi_l = pdk.Layer(\n            'ScatterplotLayer',\n            data=placespd,\n            get_position='[LON, LAT]',\n            get_color='[255,255,255]',\n            get_radius=600,\n            pickable=True)\n\n#### render the map showing trainstations based on overture maps\n    \nst.pydeck_chart(pdk.Deck(\n    map_style=None,\n    initial_view_state=pdk.ViewState(\n        latitude=LAT,\n        longitude=LON,\n        zoom=5,\n        height=400\n        ),\n    \nlayers= [polygon_layer, poi_l], tooltip = {'text':\" Name: {NAME}, alternate: {ALTERNATE}\"}\n\n))",
   "execution_count": null
  },
  {
   "cell_type": "code",
   "id": "4b2b0852-65a5-4d16-bf52-83a800c52b63",
   "metadata": {
    "language": "sql",
    "name": "cell12",
    "collapsed": false
   },
   "outputs": [],
   "source": "SELECT * RENAME(\"Longitude\" AS LON, \"Latitude\" as LAT, \"CrsCode\" as NAME, \"Postcode\" as ALTERNATE) FROM NORTHERN_TRAINS_STATION_DATA.TESTING.\"StationLatLong\"",
   "execution_count": null
  },
  {
   "cell_type": "code",
   "id": "50e3b33e-ca55-4004-b740-f4569083c9fe",
   "metadata": {
    "language": "python",
    "name": "cell13",
    "collapsed": false
   },
   "outputs": [],
   "source": "trains_latlon_renamed_pd = cell12.to_pandas()\n\n\nnw_trains_l = pdk.Layer(\n            'ScatterplotLayer',\n            data=trains_latlon_renamed_pd,\n            get_position='[LON, LAT]',\n            get_color='[0,187,2]',\n            get_radius=600,\n            pickable=True)\n\n#### render the map showing trainstations based on overture maps\n    \nst.pydeck_chart(pdk.Deck(\n    map_style=None,\n    initial_view_state=pdk.ViewState(\n        latitude=LAT,\n        longitude=LON,\n        zoom=5,\n        height=400\n        ),\n    \nlayers= [polygon_layer, poi_l, nw_trains_l], tooltip = {'text':\"Name: {NAME}, alternate: {ALTERNATE}\"}\n\n))",
   "execution_count": null
  },
  {
   "cell_type": "code",
   "id": "370e367e-333d-44ce-9c20-866161d19890",
   "metadata": {
    "language": "sql",
    "name": "cell14",
    "collapsed": false
   },
   "outputs": [],
   "source": "SELECT * FROM NORTHERN_TRAINS_STATION_DATA.TESTING.\"STATION ATTRIBUTES 1\" LIMIT 4",
   "execution_count": null
  },
  {
   "cell_type": "code",
   "id": "7b6c6e41-c444-460a-a8e0-9d97fe22b081",
   "metadata": {
    "language": "sql",
    "name": "cell15",
    "collapsed": false
   },
   "outputs": [],
   "source": "CREATE OR REPLACE TABLE DATA.TRAIN_STATION_INFORMATION AS\n\nSELECT \"CRS Code\", \nMP, \n\"Political Party\", \nSNOWFLAKE.CORTEX.COMPLETE('snowflake-arctic',concat(QUESTION,DATA,CONSTRAINTS)) ALTERNATE\n\nFROM \n\n(\n\nSELECT *,\n\nOBJECT_CONSTRUCT(\n\n'CRS Code',\"CRS Code\",\n'Full Timetable Calls',\n\"Dec21 Weekday Full Timetable Daily Calls\"::INT,\n'Emergency Timetable Calls',\n\"Dec21 Weekday Emergency Timetable Daily Calls\"::INT,\n'Footfall',\n\"ORR Station Footfall 2020-21\"::INT,\n'Parking',\n\"Car Parking - Free/Chargeable\",\n'MP',\nMP,\n'Political Party',\n\"Political Party\",\n'Car Parking Spaces',\n\"Car Parking Spaces\"::INT,\n'Staffed?',\n\"Staffed?\"\n\n)::TEXT DATA,\n'In less than 200 words, write a summary based on the following information' QUESTION,\n'Do not include Based on the provided information' CONSTRAINTS\nFROM\n\n(SELECT * FROM NORTHERN_TRAINS_STATION_DATA.TESTING.\"STATION ATTRIBUTES 1\")\n\n)",
   "execution_count": null
  },
  {
   "cell_type": "code",
   "id": "e7431579-5b36-424c-89b6-f0ff81806a1a",
   "metadata": {
    "language": "sql",
    "name": "cell16",
    "collapsed": false
   },
   "outputs": [],
   "source": "SELECT * FROM DATA.TRAIN_STATION_INFORMATION",
   "execution_count": null
  },
  {
   "cell_type": "code",
   "id": "c2be2417-a373-498c-97a9-270263590cb2",
   "metadata": {
    "language": "sql",
    "name": "cell17",
    "collapsed": false
   },
   "outputs": [],
   "source": "SELECT * RENAME(\"Longitude\" AS LON, \"Latitude\" as LAT, \"CrsCode\" as NAME) FROM NORTHERN_TRAINS_STATION_DATA.TESTING.\"StationLatLong\" A INNER JOIN\n\nDATA.TRAIN_STATION_INFORMATION B ON A.\"CrsCode\" = B.\"CRS Code\" ",
   "execution_count": null
  },
  {
   "cell_type": "code",
   "id": "38b7d534-cc26-4def-a0f7-4d374ca409c8",
   "metadata": {
    "language": "python",
    "name": "cell18",
    "collapsed": false
   },
   "outputs": [],
   "source": "trains_latlon_renamed_pd = cell17.to_pandas()\n\nnw_trains_l = pdk.Layer(\n            'ScatterplotLayer',\n            data=trains_latlon_renamed_pd,\n            get_position='[LON, LAT]',\n            get_color='[0,187,2]',\n            get_radius=600,\n            pickable=True)\n\n#### render the map showing trainstations based on overture maps\n\ntooltip = {\n   \"html\": \"\"\"<b>Name:</b> {NAME} <br> <b>Alternate:</b> {ALTERNATE}\"\"\",\n   \"style\": {\n       \"width\":\"50%\",\n        \"backgroundColor\": \"steelblue\",\n        \"color\": \"white\",\n       \"text-wrap\": \"balance\"\n   }\n}\n    \nst.pydeck_chart(pdk.Deck(\n    map_style=None,\n    initial_view_state=pdk.ViewState(\n        latitude=LAT,\n        longitude=LON,\n        zoom=5,\n        height=700\n        ),\n    \nlayers= [polygon_layer, poi_l, nw_trains_l], tooltip = tooltip\n\n))",
   "execution_count": null
  },
  {
   "cell_type": "code",
   "id": "9f6b8373-31b2-4682-aa88-2f7e88103c87",
   "metadata": {
    "language": "sql",
    "name": "cell19",
    "collapsed": false
   },
   "outputs": [],
   "source": "CREATE OR REPLACE TABLE DATA.EVENTS_IN_THE_NORTH AS \n\nSELECT\n\n'''{\"DATE\":\"YYYY-MM-DD\", \"NAME\":\"event\",DESCRIPTION:\"describe what the event is\" \"CENTROID\":{\n  \"coordinates\": [\n    0,\n    0\n  ],\n  \"type\": \"Point\"\n},\"COLOR\":\"Random bright and unique color in RGB presented in an array\"}''' JSON,\n\n'''Retrieve 6 events with unique locations the north of england which will happen in 2024.  do not include commentary or notes retrive this in the following json format''' QUESTION,\n'ONLY RETURN JSON' CONSTRAINTS,\n\nSNOWFLAKE.CORTEX.COMPLETE('snowflake-arctic',concat(QUESTION,json,CONSTRAINTS)) EVENT_DATA",
   "execution_count": null
  },
  {
   "cell_type": "code",
   "id": "620f26b7-0aaf-408c-9381-2b5839c34b53",
   "metadata": {
    "language": "sql",
    "name": "cell20",
    "collapsed": false
   },
   "outputs": [],
   "source": "select \nH3_POINT_TO_CELL_STRING(TO_GEOGRAPHY(VALUE:CENTROID),5) H3,\nVALUE:CENTROID CENTROID,\nVALUE:COLOR[0] R,\nVALUE:COLOR[1] G,\nVALUE:COLOR[2] B,\nVALUE:DATE::DATE DATE,\nVALUE:NAME::TEXT NAME,\nVALUE:DESCRIPTION::TEXT ALTERNATE\n\nfrom data.events_in_the_north,\nlateral flatten(PARSE_JSON(EVENT_DATA))",
   "execution_count": null
  },
  {
   "cell_type": "code",
   "id": "456d705f-ca83-4726-b537-addb68537726",
   "metadata": {
    "language": "python",
    "name": "cell21",
    "collapsed": false
   },
   "outputs": [],
   "source": "events = cell20.to_df()\n\neventspd = events.group_by('H3','NAME','ALTERNATE','R','G','B').count().to_pandas()\n\n\nst.write(eventspd)\n\nh3_events = pdk.Layer(\n        \"H3HexagonLayer\",\n        eventspd,\n        pickable=True,\n        stroked=True,\n        filled=True,\n        extruded=False,\n        get_hexagon=\"H3\",\n        get_fill_color=[\"255-R\",\"255-G\",\"255-B\"],\n        line_width_min_pixels=2,\n        opacity=0.4)\n\n#### render the map showing trainstations based on overture maps\n\ntooltip = {\n   \"html\": \"\"\"<b>Name:</b> {NAME} <br> <b>Alternate:</b> {ALTERNATE}\"\"\",\n   \"style\": {\n       \"width\":\"50%\",\n        \"backgroundColor\": \"steelblue\",\n        \"color\": \"white\",\n       \"text-wrap\": \"balance\"\n   }\n}\n\nst.pydeck_chart(pdk.Deck(\n    map_style=None,\n    initial_view_state=pdk.ViewState(\n        latitude=LAT,\n        longitude=LON,\n        zoom=5,\n        height=600\n        ),\n    \nlayers= [polygon_layer, poi_l, h3_events,nw_trains_l, ], tooltip = tooltip\n\n))",
   "execution_count": null
  },
  {
   "cell_type": "code",
   "id": "d1ee4e4e-c77d-457b-bf15-0d783884fea5",
   "metadata": {
    "language": "sql",
    "name": "cell22",
    "collapsed": false
   },
   "outputs": [],
   "source": "SELECT * FROM {{cell17}} A\n\nINNER JOIN {{cell20}} B ON H3_LATLNG_TO_CELL_STRING(A.LAT,A.LON,5) = B.H3",
   "execution_count": null
  },
  {
   "cell_type": "code",
   "id": "5c81a3f5-3201-414c-8025-07ea40e584e0",
   "metadata": {
    "language": "sql",
    "name": "cell23",
    "collapsed": false
   },
   "outputs": [],
   "source": "SELECT *, ST_DISTANCE(TO_GEOGRAPHY(CENTROID),TO_GEOGRAPHY(GEOMETRY)) DISTANCE_FROM_EVENT FROM \n\n(\n\nSELECT * FROM {{cell10}} A\n\nINNER JOIN {{cell20}} B ON H3_LATLNG_TO_CELL_STRING(A.LAT,A.LON,5) = B.H3) where distance_from_event <1000",
   "execution_count": null
  },
  {
   "cell_type": "code",
   "id": "f6ced01e-150a-4ea9-a54a-2db74b19c263",
   "metadata": {
    "language": "sql",
    "name": "cell24",
    "collapsed": false
   },
   "outputs": [],
   "source": "SELECT A.MP,A.H3, ARRAY_AGG(\n\nOBJECT_CONSTRUCT('NAME',NAME,'PHONE',PHONE,'WEBSITE',WEBSITE)) WITHIN GROUP ( ORDER BY A.MP ) RESTURANTS\n\n\nFROM \n(select DISTINCT MP, H3 from {{cell22}}) A\n\nINNER JOIN {{cell23}} B ON A.H3 = B.H3\n\nGROUP BY ALL",
   "execution_count": null
  },
  {
   "cell_type": "code",
   "id": "691d970d-82b4-400d-b915-3aacaa3e5de6",
   "metadata": {
    "language": "sql",
    "name": "cell25",
    "collapsed": false
   },
   "outputs": [],
   "source": "SELECT A.MP,A.H3, ARRAY_AGG(\n\nOBJECT_CONSTRUCT('EVENT',NAME,'DATE',DATE)) WITHIN GROUP ( ORDER BY A.MP ) EVENTS\n\n\nFROM \n(select DISTINCT MP, H3 from {{cell22}}) A\n\nINNER JOIN {{cell20}} B ON A.H3 = B.H3\n\nGROUP BY ALL",
   "execution_count": null
  },
  {
   "cell_type": "code",
   "id": "256f2635-d4e4-44b8-ac95-284bcb1631aa",
   "metadata": {
    "language": "sql",
    "name": "cell26",
    "collapsed": false
   },
   "outputs": [],
   "source": "SELECT A.MP,A.H3, ARRAY_AGG(\n\nOBJECT_CONSTRUCT('Train Station Information',ALTERNATE)) WITHIN GROUP ( ORDER BY A.MP ) TRAIN_STATIONS\n\n\nFROM \n(select DISTINCT MP, H3 from {{cell22}}) A\n\nINNER JOIN {{cell20}} B ON A.H3 = B.H3\n\nGROUP BY ALL",
   "execution_count": null
  },
  {
   "cell_type": "code",
   "id": "b3623542-eb35-4bad-bc5b-590aafee4719",
   "metadata": {
    "language": "sql",
    "name": "cell27",
    "collapsed": false
   },
   "outputs": [],
   "source": "CREATE OR REPLACE TABLE DATA.EVENTS_AND_WHAT_IS_AFFFECTED AS \n\nSELECT A.*, B.EVENTS, C.TRAIN_STATIONS FROM \n\n{{cell24}} A \n\nINNER JOIN {{cell25}} B ON A.MP = B.MP\n\nINNER JOIN {{cell26}} C ON A.MP = C.MP",
   "execution_count": null
  },
  {
   "cell_type": "code",
   "id": "3f4a4559-9458-49d3-8d42-14fcbb322da8",
   "metadata": {
    "language": "sql",
    "name": "cell28",
    "collapsed": false
   },
   "outputs": [],
   "source": "SELECT * EXCLUDE RESTAURANTS, ARRAY_SLICE(RESTAURANTS,0,10) RESTAURANTS FROM DATA.EVENTS_AND_WHAT_IS_AFFECTED",
   "execution_count": null
  },
  {
   "cell_type": "code",
   "id": "5b1bd63b-7dca-4b98-b56f-cc4d874b7992",
   "metadata": {
    "language": "sql",
    "name": "cell29",
    "collapsed": false
   },
   "outputs": [],
   "source": "CREATE OR REPLACE TABLE DATA.LETTERS_TO_MP AS \n\nSELECT MP, concat(\n'Write to this MP: ',\nMP,\n'About these events: ',\nEVENTS::TEXT,\n'Affecting these train stations:',\nTRAIN_STATIONS::TEXT,\n'And these Restaurants: ',\nRESTAURANTS::TEXT,\n'The letter is written by Becky - a concerned Citizen'\n\n) PROMPT\n\n, SNOWFLAKE.CORTEX.COMPLETE('mixtral-8x7b',PROMPT) LETTER\n\nFROM {{cell28}}",
   "execution_count": null
  },
  {
   "cell_type": "code",
   "id": "1762e6b5-4af3-4ecb-9e95-7601d30152b5",
   "metadata": {
    "language": "sql",
    "name": "cell30",
    "collapsed": false
   },
   "outputs": [],
   "source": "SELECT * FROM DATA.LETTERS_TO_MP",
   "execution_count": null
  },
  {
   "cell_type": "code",
   "id": "d367fe1e-d02e-4116-be48-cc6165ba870f",
   "metadata": {
    "language": "python",
    "name": "cell31",
    "collapsed": false
   },
   "outputs": [],
   "source": "letterspd = cell30.to_pandas()\nselected_letter = st.slider('Choose Letter:',0,letterspd.shape[0]-1,1)\nst.write(letterspd.LETTER.iloc[selected_letter])",
   "execution_count": null
  }
 ]
}