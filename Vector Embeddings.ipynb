{
 "metadata": {
  "kernelspec": {
   "display_name": "Streamlit Notebook",
   "name": "streamlit"
  }
 },
 "nbformat_minor": 5,
 "nbformat": 4,
 "cells": [
  {
   "cell_type": "code",
   "id": "3775908f-ca36-4846-8f38-5adca39217f2",
   "metadata": {
    "language": "python",
    "name": "cell1",
    "collapsed": false
   },
   "source": "# Import python packages\nimport streamlit as st\nfrom snowflake.snowpark.context import get_active_session\nfrom snowflake.snowpark import functions as F\nfrom snowflake.snowpark.types import *\n\n# Write directly to the app\nst.title(\"Use Vector Embeddings to make data searchable and only send the relevant data to the LLM for quick answers\")\n\n# Get the current credentials\nsession = get_active_session()\n\n\n\nletters = session.table('BUILD_UK.DATA.LETTERS_TO_MP')\n\nSMEDIA = session.table('BUILD_UK.DATA.SOCIAL_MEDIA')\n\nst.markdown('#### Here are the letters')\nletters\n\nst.markdown('#### Here is the social media')\nSMEDIA\n\n\nobject = letters.select(F.col('LETTER').alias('OBJECT'))\\\n.union(SMEDIA.select(F.col('V').astype(StringType()).alias('OBJECT')))\n\n",
   "execution_count": null,
   "outputs": []
  },
  {
   "cell_type": "markdown",
   "id": "2910357f-2438-4bd5-ae50-4f9c3617f098",
   "metadata": {
    "name": "cell13",
    "collapsed": false
   },
   "source": "#### Present both letters and social media comments as an object"
  },
  {
   "cell_type": "code",
   "id": "8d50cbf4-0c8d-4950-86cb-114990437ac9",
   "metadata": {
    "language": "python",
    "name": "cell2"
   },
   "source": "object = letters.select(F.col('LETTER').alias('OBJECT'))\\\n.union(SMEDIA.select(F.col('V').astype(StringType()).alias('OBJECT')))\n\nst.write(object)",
   "execution_count": null,
   "outputs": []
  },
  {
   "cell_type": "markdown",
   "id": "079ab709-ae5e-41c4-af4f-23bf4ff2dfeb",
   "metadata": {
    "name": "cell14",
    "collapsed": false
   },
   "source": "#### Use Vector Embeddings to put the unstructured data into an array using built in text embeddings"
  },
  {
   "cell_type": "markdown",
   "id": "904cc82a-2b5a-45a4-a003-5fd592eff951",
   "metadata": {
    "name": "cell15",
    "collapsed": false
   },
   "source": "![alt text](https://docs.snowflake.com/en/_images/vector-similarity-vectors-example.png \"Title\")"
  },
  {
   "cell_type": "code",
   "id": "c695373e-ac74-4b62-a1f1-08206cbd5c81",
   "metadata": {
    "language": "python",
    "name": "cell3",
    "collapsed": false
   },
   "source": "embeds = object.with_column('EMBED',F.call_function('SNOWFLAKE.CORTEX.EMBED_TEXT_768',\n                                                    F.lit('snowflake-arctic-embed-m'),\n                                                    F.col('OBJECT'))).cache_result()",
   "execution_count": null,
   "outputs": []
  },
  {
   "cell_type": "code",
   "id": "6df79e71-3617-4926-9f7f-5754aaaf2f81",
   "metadata": {
    "language": "python",
    "name": "cell4"
   },
   "outputs": [],
   "source": "embeds",
   "execution_count": null
  },
  {
   "cell_type": "markdown",
   "id": "13d5a2a4-2c7e-4391-a883-808c7b6ba187",
   "metadata": {
    "name": "cell16",
    "collapsed": false
   },
   "source": "#### Create a question you want to ask the data about"
  },
  {
   "cell_type": "code",
   "id": "b3381029-ead6-4920-93f5-5aad93a44553",
   "metadata": {
    "language": "python",
    "name": "cell5",
    "collapsed": false
   },
   "outputs": [],
   "source": "poison_search = embeds.with_column('QUESTION',F.lit('Tell me about all the things mentioned about food?'))\n\n",
   "execution_count": null
  },
  {
   "cell_type": "markdown",
   "id": "28a98636-67ab-45cf-b968-8dab5415bac2",
   "metadata": {
    "name": "cell17",
    "collapsed": false
   },
   "source": "#### Embed the Question the same way as the data"
  },
  {
   "cell_type": "code",
   "id": "03b9d868-d5ef-40fa-a0cf-b11c7a083d28",
   "metadata": {
    "language": "python",
    "name": "cell6",
    "collapsed": false
   },
   "outputs": [],
   "source": "poison_search = poison_search.with_column('EMBEDQ',F.call_function('SNOWFLAKE.CORTEX.EMBED_TEXT_768',\n                                                    F.lit('snowflake-arctic-embed-m'),\n                                                    F.col('QUESTION'))).cache_result()",
   "execution_count": null
  },
  {
   "cell_type": "markdown",
   "id": "d253239e-86b2-4458-b764-8b5768c8af10",
   "metadata": {
    "name": "cell18",
    "collapsed": false
   },
   "source": "#### Use the Vector Cosine Similarity function to rank each row based on how close the vectors are - the closer the data is to the question, the higher the ranking"
  },
  {
   "cell_type": "code",
   "id": "279a4cf9-0f07-4da3-bf0a-4351bec62331",
   "metadata": {
    "language": "python",
    "name": "cell7",
    "collapsed": false
   },
   "outputs": [],
   "source": "poison_similar = poison_search.with_column('search',F.call_function('VECTOR_COSINE_SIMILARITY'\n                                           ,F.col('EMBED'),\n                                          F.col('EMBEDQ')))\n\npoison_similar ",
   "execution_count": null
  },
  {
   "cell_type": "markdown",
   "id": "cbc1ba04-88ff-4101-a56f-170c368c4c95",
   "metadata": {
    "name": "cell19",
    "collapsed": false
   },
   "source": "#### Sort by relavance and only show the top 3"
  },
  {
   "cell_type": "code",
   "id": "9c53a461-2fb9-4666-9a6f-487b5afce756",
   "metadata": {
    "language": "python",
    "name": "cell8",
    "collapsed": false
   },
   "outputs": [],
   "source": "poison_similar = poison_similar.sort(F.col('SEARCH').desc()).limit(3)",
   "execution_count": null
  },
  {
   "cell_type": "markdown",
   "id": "851e6247-20a2-4d47-b174-e5e48037986b",
   "metadata": {
    "name": "cell20",
    "collapsed": false
   },
   "source": "#### Tidy up the dataframe to view only the question and the relevant datasets"
  },
  {
   "cell_type": "code",
   "id": "09677389-6c0d-48ee-a179-2dc1ccabb9f8",
   "metadata": {
    "language": "python",
    "name": "cell9",
    "collapsed": false
   },
   "outputs": [],
   "source": "poison_similar.select('OBJECT','QUESTION')",
   "execution_count": null
  },
  {
   "cell_type": "markdown",
   "id": "c7b2ed2b-c99e-4a26-879b-c97049bc1aed",
   "metadata": {
    "name": "cell21",
    "collapsed": false
   },
   "source": "### Use Cortex Complete in the same way as before to provide a readable answer"
  },
  {
   "cell_type": "code",
   "id": "109b4319-d544-4db8-ba7a-2e28c2fb6466",
   "metadata": {
    "language": "python",
    "name": "cell10",
    "collapsed": false
   },
   "outputs": [],
   "source": "ANSWER = poison_similar.with_column('ANSWER',\n                                    F.call_function('SNOWFLAKE.CORTEX.COMPLETE',F.lit('mixtral-8x7b'),\n                                                   F.concat(F.col('QUESTION'),\n                                                           F.lit(' Based on the following data: '),\n                                                           F.col('OBJECT'),\n                                                           F.lit('Only provide the answer '),\n                                                           F.lit('Do not provide additional commentary'))))",
   "execution_count": null
  },
  {
   "cell_type": "code",
   "id": "04350c90-9ade-49c6-a4cd-66a06fb44471",
   "metadata": {
    "language": "python",
    "name": "cell11",
    "collapsed": false
   },
   "outputs": [],
   "source": "ANSWER",
   "execution_count": null
  },
  {
   "cell_type": "code",
   "id": "b18e7f80-0db4-4b9d-9107-b3f4f45c1402",
   "metadata": {
    "language": "python",
    "name": "cell12",
    "collapsed": false
   },
   "outputs": [],
   "source": "st.write(ANSWER.select('ANSWER').to_pandas().ANSWER.iloc[0])",
   "execution_count": null
  }
 ]
}